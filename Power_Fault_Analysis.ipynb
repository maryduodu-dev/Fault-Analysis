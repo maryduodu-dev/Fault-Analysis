{
 "cells": [
  {
   "cell_type": "markdown",
   "metadata": {},
   "source": [
    "  \n",
    "\n",
    "\n",
    "## **Introduction**  \n",
    "\n",
    "This project focuses on **fault analysis and system performance evaluation** using Python. The dataset contains key variables such as **fault types, power load, voltage, current, environmental factors (temperature, wind speed, weather conditions), maintenance status, and component health**.  \n",
    "\n",
    "The main objectives of this analysis are to:  \n",
    "- **Identify fault trends** and understand which factors contribute to system failures.  \n",
    "- **Analyze the impact of environmental conditions** (temperature, wind speed, weather) on power load and fault occurrences.  \n",
    "- **Evaluate component health and maintenance status** to predict potential failures.  \n",
    "- **Visualize fault patterns** using data-driven insights for better decision-making.  \n",
    "\n",
    "Python libraries like **Pandas, Matplotlib, and Seaborn** were used for **data cleaning, exploratory analysis, and visualization** to uncover key insights.  \n",
    "\n",
    "This project demonstrates how data analytics can improve **fault detection, predictive maintenance, and system reliability** in real-world applications.  \n",
    "\n",
    "\n",
    "\n"
   ]
  },
  {
   "cell_type": "markdown",
   "metadata": {},
   "source": [
    "Loading the dataset"
   ]
  },
  {
   "cell_type": "code",
   "execution_count": null,
   "metadata": {},
   "outputs": [],
   "source": [
    "import numpy as np #linear algebra\n",
    "import pandas as pd #data processing\n",
    "\n",
    "#Visualization modules\n",
    "import seaborn as sns\n",
    "import matplotlib.pyplot as plt\n",
    "\n",
    "\n",
    "%matplotlib inline\n",
    "from matplotlib import cm #colormap"
   ]
  },
  {
   "cell_type": "markdown",
   "metadata": {},
   "source": [
    "Loading Dataset"
   ]
  },
  {
   "cell_type": "code",
   "execution_count": 1,
   "metadata": {},
   "outputs": [
    {
     "ename": "NameError",
     "evalue": "name 'pd' is not defined",
     "output_type": "error",
     "traceback": [
      "\u001b[31m---------------------------------------------------------------------------\u001b[39m",
      "\u001b[31mNameError\u001b[39m                                 Traceback (most recent call last)",
      "\u001b[36mCell\u001b[39m\u001b[36m \u001b[39m\u001b[32mIn[1]\u001b[39m\u001b[32m, line 1\u001b[39m\n\u001b[32m----> \u001b[39m\u001b[32m1\u001b[39m df_fault_data = \u001b[43mpd\u001b[49m.read_csv(\u001b[33m'\u001b[39m\u001b[33mC:/Users/maryo/Desktop/Data Analysis/Python Codes/Fault Analysis/fault_data.csv\u001b[39m\u001b[33m'\u001b[39m)\n",
      "\u001b[31mNameError\u001b[39m: name 'pd' is not defined"
     ]
    }
   ],
   "source": [
    "df_fault_data = pd.read_csv('C:/Users/maryo/Desktop/Data Analysis/Python Codes/Fault Analysis/fault_data.csv')"
   ]
  },
  {
   "cell_type": "markdown",
   "metadata": {},
   "source": [
    "Data Preparation"
   ]
  },
  {
   "cell_type": "code",
   "execution_count": null,
   "metadata": {},
   "outputs": [],
   "source": [
    "df_fault_data.head()\n"
   ]
  },
  {
   "cell_type": "code",
   "execution_count": null,
   "metadata": {},
   "outputs": [],
   "source": [
    "df_fault_data.info()"
   ]
  },
  {
   "cell_type": "code",
   "execution_count": null,
   "metadata": {},
   "outputs": [],
   "source": [
    "df_fault_data.describe()"
   ]
  },
  {
   "cell_type": "code",
   "execution_count": null,
   "metadata": {},
   "outputs": [
    {
     "name": "stdout",
     "output_type": "stream",
     "text": [
      "0\n"
     ]
    }
   ],
   "source": [
    "print(df_fault_data.duplicated().sum())"
   ]
  },
  {
   "cell_type": "markdown",
   "metadata": {},
   "source": [
    "Data Cleaning"
   ]
  },
  {
   "cell_type": "code",
   "execution_count": null,
   "metadata": {},
   "outputs": [
    {
     "data": {
      "text/html": [
       "<div>\n",
       "<style scoped>\n",
       "    .dataframe tbody tr th:only-of-type {\n",
       "        vertical-align: middle;\n",
       "    }\n",
       "\n",
       "    .dataframe tbody tr th {\n",
       "        vertical-align: top;\n",
       "    }\n",
       "\n",
       "    .dataframe thead th {\n",
       "        text-align: right;\n",
       "    }\n",
       "</style>\n",
       "<table border=\"1\" class=\"dataframe\">\n",
       "  <thead>\n",
       "    <tr style=\"text-align: right;\">\n",
       "      <th></th>\n",
       "      <th>fault_id</th>\n",
       "      <th>fault_type</th>\n",
       "      <th>fault_location_(latitude,_longitude)</th>\n",
       "      <th>voltage_(v)</th>\n",
       "      <th>current_(a)</th>\n",
       "      <th>power_load_(mw)</th>\n",
       "      <th>temperature_(°c)</th>\n",
       "      <th>wind_speed_(km/h)</th>\n",
       "      <th>weather_condition</th>\n",
       "      <th>maintenance_status</th>\n",
       "      <th>component_health</th>\n",
       "      <th>duration_of_fault_(hrs)</th>\n",
       "      <th>down_time_(hrs)</th>\n",
       "      <th>temperature_range</th>\n",
       "    </tr>\n",
       "  </thead>\n",
       "  <tbody>\n",
       "    <tr>\n",
       "      <th>0</th>\n",
       "      <td>F001</td>\n",
       "      <td>Line Breakage</td>\n",
       "      <td>(34.0522, -118.2437)</td>\n",
       "      <td>2200</td>\n",
       "      <td>250</td>\n",
       "      <td>50</td>\n",
       "      <td>25</td>\n",
       "      <td>20</td>\n",
       "      <td>Clear</td>\n",
       "      <td>Scheduled</td>\n",
       "      <td>Normal</td>\n",
       "      <td>2.0</td>\n",
       "      <td>1.0</td>\n",
       "      <td>20-30°C</td>\n",
       "    </tr>\n",
       "    <tr>\n",
       "      <th>1</th>\n",
       "      <td>F002</td>\n",
       "      <td>Transformer Failure</td>\n",
       "      <td>(34.056, -118.245)</td>\n",
       "      <td>1800</td>\n",
       "      <td>180</td>\n",
       "      <td>45</td>\n",
       "      <td>28</td>\n",
       "      <td>15</td>\n",
       "      <td>Rainy</td>\n",
       "      <td>Completed</td>\n",
       "      <td>Faulty</td>\n",
       "      <td>3.0</td>\n",
       "      <td>5.0</td>\n",
       "      <td>20-30°C</td>\n",
       "    </tr>\n",
       "    <tr>\n",
       "      <th>2</th>\n",
       "      <td>F003</td>\n",
       "      <td>Overheating</td>\n",
       "      <td>(34.0525, -118.244)</td>\n",
       "      <td>2100</td>\n",
       "      <td>230</td>\n",
       "      <td>55</td>\n",
       "      <td>35</td>\n",
       "      <td>25</td>\n",
       "      <td>Windstorm</td>\n",
       "      <td>Pending</td>\n",
       "      <td>Overheated</td>\n",
       "      <td>4.0</td>\n",
       "      <td>6.0</td>\n",
       "      <td>30-40°C</td>\n",
       "    </tr>\n",
       "    <tr>\n",
       "      <th>3</th>\n",
       "      <td>F004</td>\n",
       "      <td>Line Breakage</td>\n",
       "      <td>(34.055, -118.242)</td>\n",
       "      <td>2050</td>\n",
       "      <td>240</td>\n",
       "      <td>48</td>\n",
       "      <td>23</td>\n",
       "      <td>10</td>\n",
       "      <td>Clear</td>\n",
       "      <td>Completed</td>\n",
       "      <td>Normal</td>\n",
       "      <td>2.5</td>\n",
       "      <td>3.0</td>\n",
       "      <td>20-30°C</td>\n",
       "    </tr>\n",
       "    <tr>\n",
       "      <th>4</th>\n",
       "      <td>F005</td>\n",
       "      <td>Transformer Failure</td>\n",
       "      <td>(34.0545, -118.243)</td>\n",
       "      <td>1900</td>\n",
       "      <td>190</td>\n",
       "      <td>50</td>\n",
       "      <td>30</td>\n",
       "      <td>18</td>\n",
       "      <td>Snowy</td>\n",
       "      <td>Scheduled</td>\n",
       "      <td>Faulty</td>\n",
       "      <td>3.5</td>\n",
       "      <td>4.0</td>\n",
       "      <td>20-30°C</td>\n",
       "    </tr>\n",
       "  </tbody>\n",
       "</table>\n",
       "</div>"
      ],
      "text/plain": [
       "  fault_id           fault_type fault_location_(latitude,_longitude)  \\\n",
       "0     F001        Line Breakage                 (34.0522, -118.2437)   \n",
       "1     F002  Transformer Failure                   (34.056, -118.245)   \n",
       "2     F003          Overheating                  (34.0525, -118.244)   \n",
       "3     F004        Line Breakage                   (34.055, -118.242)   \n",
       "4     F005  Transformer Failure                  (34.0545, -118.243)   \n",
       "\n",
       "   voltage_(v)  current_(a)  power_load_(mw)  temperature_(°c)  \\\n",
       "0         2200          250               50                25   \n",
       "1         1800          180               45                28   \n",
       "2         2100          230               55                35   \n",
       "3         2050          240               48                23   \n",
       "4         1900          190               50                30   \n",
       "\n",
       "   wind_speed_(km/h) weather_condition maintenance_status component_health  \\\n",
       "0                 20             Clear          Scheduled           Normal   \n",
       "1                 15             Rainy          Completed           Faulty   \n",
       "2                 25         Windstorm            Pending       Overheated   \n",
       "3                 10             Clear          Completed           Normal   \n",
       "4                 18             Snowy          Scheduled           Faulty   \n",
       "\n",
       "   duration_of_fault_(hrs)  down_time_(hrs) temperature_range  \n",
       "0                      2.0              1.0           20-30°C  \n",
       "1                      3.0              5.0           20-30°C  \n",
       "2                      4.0              6.0           30-40°C  \n",
       "3                      2.5              3.0           20-30°C  \n",
       "4                      3.5              4.0           20-30°C  "
      ]
     },
     "metadata": {},
     "output_type": "display_data"
    }
   ],
   "source": [
    "#Standardize Column Names\n",
    "df_fault_data.columns = df_fault_data.columns.str.lower().str.replace(' ', '_')\n",
    "df_fault_data['weather_condition'] = df_fault_data['weather_condition'].str.strip()\n",
    "df_fault_data['maintenance_status'] = df_fault_data['maintenance_status'].str.strip()\n",
    "df_fault_data['component_health'] = df_fault_data['component_health'].str.strip()\n",
    "\n",
    "#Standardize Formatting Type\n",
    "df_fault_data['fault_id'] = df_fault_data['fault_id'].astype('string')\n",
    "df_fault_data['fault_type'] = df_fault_data['fault_type'].astype('string')\n",
    "df_fault_data['fault_location_(latitude,_longitude)'] = df_fault_data['fault_location_(latitude,_longitude)'].astype('string')\n",
    "df_fault_data['weather_condition'] = df_fault_data['weather_condition'].astype('string')\n",
    "df_fault_data['maintenance_status'] = df_fault_data['maintenance_status'].astype('string')\n",
    "df_fault_data['component_health'] = df_fault_data['component_health'].astype('string')\n",
    "\n",
    "\n",
    "display(df_fault_data.head())\n"
   ]
  },
  {
   "cell_type": "code",
   "execution_count": null,
   "metadata": {},
   "outputs": [
    {
     "name": "stdout",
     "output_type": "stream",
     "text": [
      "No duplicate Fault IDs found.\n"
     ]
    }
   ],
   "source": [
    "# Check for duplicates in the 'Fault ID' column\n",
    "duplicates = df_fault_data[df_fault_data.duplicated('fault_id', keep=False)]\n",
    "\n",
    "# Display the duplicate rows (if any)\n",
    "if not duplicates.empty:\n",
    "    print(\"Duplicate Fault IDs found:\")\n",
    "    print(duplicates[['fault_id', 'fault_type', 'down_time_(hrs)']])\n",
    "else:\n",
    "    print(\"No duplicate Fault IDs found.\")"
   ]
  },
  {
   "cell_type": "markdown",
   "metadata": {},
   "source": [
    "Dealing with Outliers"
   ]
  },
  {
   "cell_type": "code",
   "execution_count": null,
   "metadata": {},
   "outputs": [
    {
     "name": "stdout",
     "output_type": "stream",
     "text": [
      "Dataset after outlier removal: (506, 14)\n"
     ]
    },
    {
     "data": {
      "text/html": [
       "<div>\n",
       "<style scoped>\n",
       "    .dataframe tbody tr th:only-of-type {\n",
       "        vertical-align: middle;\n",
       "    }\n",
       "\n",
       "    .dataframe tbody tr th {\n",
       "        vertical-align: top;\n",
       "    }\n",
       "\n",
       "    .dataframe thead th {\n",
       "        text-align: right;\n",
       "    }\n",
       "</style>\n",
       "<table border=\"1\" class=\"dataframe\">\n",
       "  <thead>\n",
       "    <tr style=\"text-align: right;\">\n",
       "      <th></th>\n",
       "      <th>fault_id</th>\n",
       "      <th>fault_type</th>\n",
       "      <th>fault_location_(latitude,_longitude)</th>\n",
       "      <th>voltage_(v)</th>\n",
       "      <th>current_(a)</th>\n",
       "      <th>power_load_(mw)</th>\n",
       "      <th>temperature_(°c)</th>\n",
       "      <th>wind_speed_(km/h)</th>\n",
       "      <th>weather_condition</th>\n",
       "      <th>maintenance_status</th>\n",
       "      <th>component_health</th>\n",
       "      <th>duration_of_fault_(hrs)</th>\n",
       "      <th>down_time_(hrs)</th>\n",
       "      <th>temperature_range</th>\n",
       "    </tr>\n",
       "  </thead>\n",
       "  <tbody>\n",
       "    <tr>\n",
       "      <th>0</th>\n",
       "      <td>F001</td>\n",
       "      <td>Line Breakage</td>\n",
       "      <td>(34.0522, -118.2437)</td>\n",
       "      <td>2200</td>\n",
       "      <td>250</td>\n",
       "      <td>50</td>\n",
       "      <td>25</td>\n",
       "      <td>20</td>\n",
       "      <td>Clear</td>\n",
       "      <td>Scheduled</td>\n",
       "      <td>Normal</td>\n",
       "      <td>2.0</td>\n",
       "      <td>1.0</td>\n",
       "      <td>20-30°C</td>\n",
       "    </tr>\n",
       "    <tr>\n",
       "      <th>1</th>\n",
       "      <td>F002</td>\n",
       "      <td>Transformer Failure</td>\n",
       "      <td>(34.056, -118.245)</td>\n",
       "      <td>1800</td>\n",
       "      <td>180</td>\n",
       "      <td>45</td>\n",
       "      <td>28</td>\n",
       "      <td>15</td>\n",
       "      <td>Rainy</td>\n",
       "      <td>Completed</td>\n",
       "      <td>Faulty</td>\n",
       "      <td>3.0</td>\n",
       "      <td>5.0</td>\n",
       "      <td>20-30°C</td>\n",
       "    </tr>\n",
       "    <tr>\n",
       "      <th>2</th>\n",
       "      <td>F003</td>\n",
       "      <td>Overheating</td>\n",
       "      <td>(34.0525, -118.244)</td>\n",
       "      <td>2100</td>\n",
       "      <td>230</td>\n",
       "      <td>55</td>\n",
       "      <td>35</td>\n",
       "      <td>25</td>\n",
       "      <td>Windstorm</td>\n",
       "      <td>Pending</td>\n",
       "      <td>Overheated</td>\n",
       "      <td>4.0</td>\n",
       "      <td>6.0</td>\n",
       "      <td>30-40°C</td>\n",
       "    </tr>\n",
       "    <tr>\n",
       "      <th>3</th>\n",
       "      <td>F004</td>\n",
       "      <td>Line Breakage</td>\n",
       "      <td>(34.055, -118.242)</td>\n",
       "      <td>2050</td>\n",
       "      <td>240</td>\n",
       "      <td>48</td>\n",
       "      <td>23</td>\n",
       "      <td>10</td>\n",
       "      <td>Clear</td>\n",
       "      <td>Completed</td>\n",
       "      <td>Normal</td>\n",
       "      <td>2.5</td>\n",
       "      <td>3.0</td>\n",
       "      <td>20-30°C</td>\n",
       "    </tr>\n",
       "    <tr>\n",
       "      <th>4</th>\n",
       "      <td>F005</td>\n",
       "      <td>Transformer Failure</td>\n",
       "      <td>(34.0545, -118.243)</td>\n",
       "      <td>1900</td>\n",
       "      <td>190</td>\n",
       "      <td>50</td>\n",
       "      <td>30</td>\n",
       "      <td>18</td>\n",
       "      <td>Snowy</td>\n",
       "      <td>Scheduled</td>\n",
       "      <td>Faulty</td>\n",
       "      <td>3.5</td>\n",
       "      <td>4.0</td>\n",
       "      <td>20-30°C</td>\n",
       "    </tr>\n",
       "  </tbody>\n",
       "</table>\n",
       "</div>"
      ],
      "text/plain": [
       "  fault_id           fault_type fault_location_(latitude,_longitude)  \\\n",
       "0     F001        Line Breakage                 (34.0522, -118.2437)   \n",
       "1     F002  Transformer Failure                   (34.056, -118.245)   \n",
       "2     F003          Overheating                  (34.0525, -118.244)   \n",
       "3     F004        Line Breakage                   (34.055, -118.242)   \n",
       "4     F005  Transformer Failure                  (34.0545, -118.243)   \n",
       "\n",
       "   voltage_(v)  current_(a)  power_load_(mw)  temperature_(°c)  \\\n",
       "0         2200          250               50                25   \n",
       "1         1800          180               45                28   \n",
       "2         2100          230               55                35   \n",
       "3         2050          240               48                23   \n",
       "4         1900          190               50                30   \n",
       "\n",
       "   wind_speed_(km/h) weather_condition maintenance_status component_health  \\\n",
       "0                 20             Clear          Scheduled           Normal   \n",
       "1                 15             Rainy          Completed           Faulty   \n",
       "2                 25         Windstorm            Pending       Overheated   \n",
       "3                 10             Clear          Completed           Normal   \n",
       "4                 18             Snowy          Scheduled           Faulty   \n",
       "\n",
       "   duration_of_fault_(hrs)  down_time_(hrs) temperature_range  \n",
       "0                      2.0              1.0           20-30°C  \n",
       "1                      3.0              5.0           20-30°C  \n",
       "2                      4.0              6.0           30-40°C  \n",
       "3                      2.5              3.0           20-30°C  \n",
       "4                      3.5              4.0           20-30°C  "
      ]
     },
     "metadata": {},
     "output_type": "display_data"
    },
    {
     "data": {
      "text/html": [
       "<div>\n",
       "<style scoped>\n",
       "    .dataframe tbody tr th:only-of-type {\n",
       "        vertical-align: middle;\n",
       "    }\n",
       "\n",
       "    .dataframe tbody tr th {\n",
       "        vertical-align: top;\n",
       "    }\n",
       "\n",
       "    .dataframe thead th {\n",
       "        text-align: right;\n",
       "    }\n",
       "</style>\n",
       "<table border=\"1\" class=\"dataframe\">\n",
       "  <thead>\n",
       "    <tr style=\"text-align: right;\">\n",
       "      <th></th>\n",
       "      <th>fault_id</th>\n",
       "      <th>fault_type</th>\n",
       "      <th>fault_location_(latitude,_longitude)</th>\n",
       "      <th>voltage_(v)</th>\n",
       "      <th>current_(a)</th>\n",
       "      <th>power_load_(mw)</th>\n",
       "      <th>temperature_(°c)</th>\n",
       "      <th>wind_speed_(km/h)</th>\n",
       "      <th>weather_condition</th>\n",
       "      <th>maintenance_status</th>\n",
       "      <th>component_health</th>\n",
       "      <th>duration_of_fault_(hrs)</th>\n",
       "      <th>down_time_(hrs)</th>\n",
       "      <th>temperature_range</th>\n",
       "    </tr>\n",
       "  </thead>\n",
       "  <tbody>\n",
       "    <tr>\n",
       "      <th>0</th>\n",
       "      <td>F001</td>\n",
       "      <td>Line Breakage</td>\n",
       "      <td>(34.0522, -118.2437)</td>\n",
       "      <td>2200</td>\n",
       "      <td>250</td>\n",
       "      <td>50</td>\n",
       "      <td>25</td>\n",
       "      <td>20</td>\n",
       "      <td>Clear</td>\n",
       "      <td>Scheduled</td>\n",
       "      <td>Normal</td>\n",
       "      <td>2.0</td>\n",
       "      <td>1.0</td>\n",
       "      <td>20-30°C</td>\n",
       "    </tr>\n",
       "    <tr>\n",
       "      <th>1</th>\n",
       "      <td>F002</td>\n",
       "      <td>Transformer Failure</td>\n",
       "      <td>(34.056, -118.245)</td>\n",
       "      <td>1800</td>\n",
       "      <td>180</td>\n",
       "      <td>45</td>\n",
       "      <td>28</td>\n",
       "      <td>15</td>\n",
       "      <td>Rainy</td>\n",
       "      <td>Completed</td>\n",
       "      <td>Faulty</td>\n",
       "      <td>3.0</td>\n",
       "      <td>5.0</td>\n",
       "      <td>20-30°C</td>\n",
       "    </tr>\n",
       "    <tr>\n",
       "      <th>2</th>\n",
       "      <td>F003</td>\n",
       "      <td>Overheating</td>\n",
       "      <td>(34.0525, -118.244)</td>\n",
       "      <td>2100</td>\n",
       "      <td>230</td>\n",
       "      <td>55</td>\n",
       "      <td>35</td>\n",
       "      <td>25</td>\n",
       "      <td>Windstorm</td>\n",
       "      <td>Pending</td>\n",
       "      <td>Overheated</td>\n",
       "      <td>4.0</td>\n",
       "      <td>6.0</td>\n",
       "      <td>30-40°C</td>\n",
       "    </tr>\n",
       "    <tr>\n",
       "      <th>3</th>\n",
       "      <td>F004</td>\n",
       "      <td>Line Breakage</td>\n",
       "      <td>(34.055, -118.242)</td>\n",
       "      <td>2050</td>\n",
       "      <td>240</td>\n",
       "      <td>48</td>\n",
       "      <td>23</td>\n",
       "      <td>10</td>\n",
       "      <td>Clear</td>\n",
       "      <td>Completed</td>\n",
       "      <td>Normal</td>\n",
       "      <td>2.5</td>\n",
       "      <td>3.0</td>\n",
       "      <td>20-30°C</td>\n",
       "    </tr>\n",
       "    <tr>\n",
       "      <th>4</th>\n",
       "      <td>F005</td>\n",
       "      <td>Transformer Failure</td>\n",
       "      <td>(34.0545, -118.243)</td>\n",
       "      <td>1900</td>\n",
       "      <td>190</td>\n",
       "      <td>50</td>\n",
       "      <td>30</td>\n",
       "      <td>18</td>\n",
       "      <td>Snowy</td>\n",
       "      <td>Scheduled</td>\n",
       "      <td>Faulty</td>\n",
       "      <td>3.5</td>\n",
       "      <td>4.0</td>\n",
       "      <td>20-30°C</td>\n",
       "    </tr>\n",
       "  </tbody>\n",
       "</table>\n",
       "</div>"
      ],
      "text/plain": [
       "  fault_id           fault_type fault_location_(latitude,_longitude)  \\\n",
       "0     F001        Line Breakage                 (34.0522, -118.2437)   \n",
       "1     F002  Transformer Failure                   (34.056, -118.245)   \n",
       "2     F003          Overheating                  (34.0525, -118.244)   \n",
       "3     F004        Line Breakage                   (34.055, -118.242)   \n",
       "4     F005  Transformer Failure                  (34.0545, -118.243)   \n",
       "\n",
       "   voltage_(v)  current_(a)  power_load_(mw)  temperature_(°c)  \\\n",
       "0         2200          250               50                25   \n",
       "1         1800          180               45                28   \n",
       "2         2100          230               55                35   \n",
       "3         2050          240               48                23   \n",
       "4         1900          190               50                30   \n",
       "\n",
       "   wind_speed_(km/h) weather_condition maintenance_status component_health  \\\n",
       "0                 20             Clear          Scheduled           Normal   \n",
       "1                 15             Rainy          Completed           Faulty   \n",
       "2                 25         Windstorm            Pending       Overheated   \n",
       "3                 10             Clear          Completed           Normal   \n",
       "4                 18             Snowy          Scheduled           Faulty   \n",
       "\n",
       "   duration_of_fault_(hrs)  down_time_(hrs) temperature_range  \n",
       "0                      2.0              1.0           20-30°C  \n",
       "1                      3.0              5.0           20-30°C  \n",
       "2                      4.0              6.0           30-40°C  \n",
       "3                      2.5              3.0           20-30°C  \n",
       "4                      3.5              4.0           20-30°C  "
      ]
     },
     "execution_count": 25,
     "metadata": {},
     "output_type": "execute_result"
    }
   ],
   "source": [
    "# Function to remove outliers using the IQR method\n",
    "def remove_outliers(df, column):\n",
    "    Q1 = df[column].quantile(0.25)\n",
    "    Q3 = df[column].quantile(0.75)\n",
    "    IQR = Q3 - Q1\n",
    "    lower_bound = Q1 - 1.5 * IQR\n",
    "    upper_bound = Q3 + 1.5 * IQR\n",
    "    return df[(df[column] >= lower_bound) & (df[column] <= upper_bound)]\n",
    "\n",
    "# List of numerical columns to clean\n",
    "numerical_cols = ['voltage_(v)', 'current_(a)', 'power_load_(mw)', 'temperature_(°c)', 'wind_speed_(km/h)']\n",
    "\n",
    "\n",
    "# Apply outlier removal\n",
    "for col in numerical_cols:\n",
    "    if col in df_fault_data.columns:\n",
    "        df_fault_data = remove_outliers(df_fault_data, col)\n",
    "    else:\n",
    "        print(f\"Warning: Column '{col}' not found in the dataset.\")\n",
    "\n",
    "\n",
    "# Check final shape\n",
    "print(f\"Dataset after outlier removal: {df_fault_data.shape}\")\n",
    "display(df_fault_data.head())\n",
    "df_fault_data.head()"
   ]
  },
  {
   "cell_type": "markdown",
   "metadata": {},
   "source": [
    "Data Analysis\n",
    "\n",
    ". Identify the most common fault types\n",
    "\n",
    ". Check if higher temperatures lead to increased load/failures\n",
    "\n",
    ". See if high wind speeds during storms increase faults\n",
    "\n",
    ". Component Health vs. Faults\n",
    "\n",
    ". Identify the most severe faults requiring long recovery times\n",
    "\n",
    "\n",
    "\n"
   ]
  },
  {
   "cell_type": "markdown",
   "metadata": {},
   "source": [
    "**Identify the most common fault types**"
   ]
  },
  {
   "cell_type": "code",
   "execution_count": null,
   "metadata": {},
   "outputs": [],
   "source": [
    "# Count occurrences of each fault type\n",
    "fault_counts = df_fault_data['fault_type'].value_counts()\n",
    "\n",
    "# Display the most common fault types\n",
    "display(fault_counts)\n",
    "df_fault_data.head()"
   ]
  },
  {
   "cell_type": "markdown",
   "metadata": {},
   "source": [
    "Visualizing the Output in a Bar Chart"
   ]
  },
  {
   "cell_type": "code",
   "execution_count": null,
   "metadata": {},
   "outputs": [
    {
     "data": {
      "image/png": "[encoded data removed]",
      "text/plain": [
       "<Figure size 640x480 with 1 Axes>"
      ]
     },
     "metadata": {},
     "output_type": "display_data"
    }
   ],
   "source": [
    "# Plot a bar chart of fault types\n",
    "fault_counts.plot(kind='bar', color='pink', edgecolor='black')\n",
    "plt.title(\"Most Common Fault Types\")\n",
    "plt.xlabel(\"Fault Type\")\n",
    "plt.ylabel(\"Count\")\n",
    "plt.xticks(rotation=45)\n",
    "plt.show()"
   ]
  },
  {
   "cell_type": "markdown",
   "metadata": {},
   "source": [
    "**Check if higher temperatures lead to increased load/failures**"
   ]
  },
  {
   "cell_type": "code",
   "execution_count": null,
   "metadata": {},
   "outputs": [
    {
     "name": "stdout",
     "output_type": "stream",
     "text": [
      "Correlation between Temperature and Power Load:\n",
      "                         temperature_(°c)  power_load_(mw)  \\\n",
      "temperature_(°c)                 1.000000         0.088662   \n",
      "power_load_(mw)                  0.088662         1.000000   \n",
      "duration_of_fault_(hrs)         -0.051422         0.064723   \n",
      "down_time_(hrs)                  0.053460        -0.013752   \n",
      "\n",
      "                         duration_of_fault_(hrs)  down_time_(hrs)  \n",
      "temperature_(°c)                       -0.051422         0.053460  \n",
      "power_load_(mw)                         0.064723        -0.013752  \n",
      "duration_of_fault_(hrs)                 1.000000         0.018813  \n",
      "down_time_(hrs)                         0.018813         1.000000  \n"
     ]
    }
   ],
   "source": [
    "# Create temperature bins\n",
    "df_fault_data['temperature_range'] = pd.cut(df_fault_data['temperature_(°c)'], bins=[0, 10, 20, 30, 40, 50], labels=['0-10°C','10-20°C', '20-30°C', '30-40°C', '40-50°C'])\n",
    "\n",
    "# Calculate correlation matrix\n",
    "correlation_matrix = df_fault_data[['temperature_(°c)', 'power_load_(mw)', 'duration_of_fault_(hrs)', 'down_time_(hrs)']].corr()\n",
    "#df_fault_data.info()\n",
    "\n",
    "\n",
    "# Display correlation value\n",
    "print(\"Correlation between Temperature and Power Load:\")\n",
    "print(correlation_matrix)"
   ]
  },
  {
   "cell_type": "markdown",
   "metadata": {},
   "source": [
    "Visualize the Correlation"
   ]
  },
  {
   "cell_type": "code",
   "execution_count": null,
   "metadata": {},
   "outputs": [
    {
     "data": {
      "image/png": "[encoded data removed]",
      "text/plain": [
       "<Figure size 640x480 with 2 Axes>"
      ]
     },
     "metadata": {},
     "output_type": "display_data"
    }
   ],
   "source": [
    "# Visualize the correlation matrix\n",
    "sns.heatmap(correlation_matrix, annot=True, cmap='coolwarm')\n",
    "plt.title('Correlation Matrix')\n",
    "plt.show()\n",
    "# Compute correlation\n",
    "#correlation = df_fault_data[['temperature_(°c)', 'power_load_(mw)']].corr()"
   ]
  },
  {
   "cell_type": "markdown",
   "metadata": {},
   "source": [
    "Aggregate data by temperature ranges to see trend"
   ]
  },
  {
   "cell_type": "code",
   "execution_count": null,
   "metadata": {},
   "outputs": [],
   "source": [
    "# Group by temperature ranges and calculate averages\n",
    "temperature_analysis = df_fault_data.groupby('temperature_range').agg({\n",
    "    'power_load_(mw)': 'mean',\n",
    "    'fault_id': 'count',  # Number of faults\n",
    "    'down_time_(hrs)': 'sum'\n",
    "}).reset_index()\n",
    "\n",
    "print(temperature_analysis)"
   ]
  },
  {
   "cell_type": "markdown",
   "metadata": {},
   "source": [
    "Visualize Trends"
   ]
  },
  {
   "cell_type": "code",
   "execution_count": null,
   "metadata": {},
   "outputs": [],
   "source": [
    "# Plot power load vs temperature\n",
    "plt.figure(figsize=(10, 6))\n",
    "sns.barplot(x='temperature_range', y='power_load_(mw)', data=temperature_analysis)\n",
    "plt.title('Average Power Load by Temperature Range')\n",
    "plt.xlabel('Temperature Range')\n",
    "plt.ylabel('Average Power Load (MW)')\n",
    "plt.show()\n",
    "\n",
    "# Plot number of faults vs temperature\n",
    "plt.figure(figsize=(10, 6))\n",
    "sns.barplot(x='temperature_range', y='fault_id', data=temperature_analysis)\n",
    "plt.title('Number of Faults by Temperature Range')\n",
    "plt.xlabel('Temperature Range')\n",
    "plt.ylabel('Number of Faults')\n",
    "plt.show()\n",
    "\n",
    "# Plot total downtime vs temperature\n",
    "plt.figure(figsize=(10, 6))\n",
    "sns.barplot(x='temperature_range', y='down_time_(hrs)', data=temperature_analysis)\n",
    "plt.title('Total Downtime by Temperature Range')\n",
    "plt.xlabel('Temperature Range')\n",
    "plt.ylabel('Total Downtime (hrs)')\n",
    "plt.show()"
   ]
  },
  {
   "cell_type": "markdown",
   "metadata": {},
   "source": [
    "**See if high wind speeds during storms increase faults**"
   ]
  },
  {
   "cell_type": "code",
   "execution_count": null,
   "metadata": {},
   "outputs": [
    {
     "data": {
      "text/html": [
       "<div>\n",
       "<style scoped>\n",
       "    .dataframe tbody tr th:only-of-type {\n",
       "        vertical-align: middle;\n",
       "    }\n",
       "\n",
       "    .dataframe tbody tr th {\n",
       "        vertical-align: top;\n",
       "    }\n",
       "\n",
       "    .dataframe thead th {\n",
       "        text-align: right;\n",
       "    }\n",
       "</style>\n",
       "<table border=\"1\" class=\"dataframe\">\n",
       "  <thead>\n",
       "    <tr style=\"text-align: right;\">\n",
       "      <th>Stormy</th>\n",
       "      <th>False</th>\n",
       "      <th>True</th>\n",
       "    </tr>\n",
       "    <tr>\n",
       "      <th>wind_speed_(km/h)</th>\n",
       "      <th></th>\n",
       "      <th></th>\n",
       "    </tr>\n",
       "  </thead>\n",
       "  <tbody>\n",
       "    <tr>\n",
       "      <th>10</th>\n",
       "      <td>14</td>\n",
       "      <td>9</td>\n",
       "    </tr>\n",
       "    <tr>\n",
       "      <th>11</th>\n",
       "      <td>11</td>\n",
       "      <td>9</td>\n",
       "    </tr>\n",
       "    <tr>\n",
       "      <th>12</th>\n",
       "      <td>9</td>\n",
       "      <td>4</td>\n",
       "    </tr>\n",
       "    <tr>\n",
       "      <th>13</th>\n",
       "      <td>23</td>\n",
       "      <td>14</td>\n",
       "    </tr>\n",
       "    <tr>\n",
       "      <th>14</th>\n",
       "      <td>25</td>\n",
       "      <td>4</td>\n",
       "    </tr>\n",
       "    <tr>\n",
       "      <th>15</th>\n",
       "      <td>23</td>\n",
       "      <td>8</td>\n",
       "    </tr>\n",
       "    <tr>\n",
       "      <th>16</th>\n",
       "      <td>13</td>\n",
       "      <td>12</td>\n",
       "    </tr>\n",
       "    <tr>\n",
       "      <th>17</th>\n",
       "      <td>16</td>\n",
       "      <td>5</td>\n",
       "    </tr>\n",
       "    <tr>\n",
       "      <th>18</th>\n",
       "      <td>17</td>\n",
       "      <td>14</td>\n",
       "    </tr>\n",
       "    <tr>\n",
       "      <th>19</th>\n",
       "      <td>12</td>\n",
       "      <td>11</td>\n",
       "    </tr>\n",
       "    <tr>\n",
       "      <th>20</th>\n",
       "      <td>13</td>\n",
       "      <td>9</td>\n",
       "    </tr>\n",
       "    <tr>\n",
       "      <th>21</th>\n",
       "      <td>14</td>\n",
       "      <td>8</td>\n",
       "    </tr>\n",
       "    <tr>\n",
       "      <th>22</th>\n",
       "      <td>18</td>\n",
       "      <td>12</td>\n",
       "    </tr>\n",
       "    <tr>\n",
       "      <th>23</th>\n",
       "      <td>17</td>\n",
       "      <td>8</td>\n",
       "    </tr>\n",
       "    <tr>\n",
       "      <th>24</th>\n",
       "      <td>16</td>\n",
       "      <td>8</td>\n",
       "    </tr>\n",
       "    <tr>\n",
       "      <th>25</th>\n",
       "      <td>11</td>\n",
       "      <td>12</td>\n",
       "    </tr>\n",
       "    <tr>\n",
       "      <th>26</th>\n",
       "      <td>18</td>\n",
       "      <td>4</td>\n",
       "    </tr>\n",
       "    <tr>\n",
       "      <th>27</th>\n",
       "      <td>8</td>\n",
       "      <td>10</td>\n",
       "    </tr>\n",
       "    <tr>\n",
       "      <th>28</th>\n",
       "      <td>17</td>\n",
       "      <td>11</td>\n",
       "    </tr>\n",
       "    <tr>\n",
       "      <th>29</th>\n",
       "      <td>12</td>\n",
       "      <td>10</td>\n",
       "    </tr>\n",
       "    <tr>\n",
       "      <th>30</th>\n",
       "      <td>12</td>\n",
       "      <td>5</td>\n",
       "    </tr>\n",
       "  </tbody>\n",
       "</table>\n",
       "</div>"
      ],
      "text/plain": [
       "Stormy             False  True \n",
       "wind_speed_(km/h)              \n",
       "10                    14      9\n",
       "11                    11      9\n",
       "12                     9      4\n",
       "13                    23     14\n",
       "14                    25      4\n",
       "15                    23      8\n",
       "16                    13     12\n",
       "17                    16      5\n",
       "18                    17     14\n",
       "19                    12     11\n",
       "20                    13      9\n",
       "21                    14      8\n",
       "22                    18     12\n",
       "23                    17      8\n",
       "24                    16      8\n",
       "25                    11     12\n",
       "26                    18      4\n",
       "27                     8     10\n",
       "28                    17     11\n",
       "29                    12     10\n",
       "30                    12      5"
      ]
     },
     "execution_count": 30,
     "metadata": {},
     "output_type": "execute_result"
    }
   ],
   "source": [
    "\n",
    "# Define stormy weather conditions\n",
    "storm_conditions = ['Windstorm', 'Thunderstorm', 'Heavy Rain', 'Snowstorm']\n",
    "\n",
    "# Create a new column to classify stormy vs. non-stormy weather\n",
    "df_fault_data['Stormy'] = df_fault_data['weather_condition'].isin(storm_conditions)\n",
    "\n",
    "# Group fault counts by wind speed and stormy condition\n",
    "fault_counts = df_fault_data.groupby(['wind_speed_(km/h)', 'Stormy'])['fault_id'].count().unstack()\n",
    "\n",
    "# Fill NaN values with 0\n",
    "fault_counts = fault_counts.fillna(0)\n",
    "\n",
    "# Display the grouped fault counts\n",
    "fault_counts\n",
    "\n"
   ]
  },
  {
   "cell_type": "markdown",
   "metadata": {},
   "source": [
    "Visualization"
   ]
  },
  {
   "cell_type": "code",
   "execution_count": null,
   "metadata": {},
   "outputs": [],
   "source": [
    "\n",
    "\n",
    "# Extract data for plotting\n",
    "wind_speeds = fault_counts.index\n",
    "stormy_faults = fault_counts[True]\n",
    "non_stormy_faults = fault_counts[False]\n",
    "\n",
    "# Set bar width and positions\n",
    "bar_width = 0.4\n",
    "x = np.arange(len(wind_speeds))\n",
    "\n",
    "# Create clustered bar chart\n",
    "plt.figure(figsize=(12, 6))\n",
    "plt.bar(x - bar_width/2, stormy_faults, bar_width, label='Stormy Weather', color='red', alpha=0.7)\n",
    "plt.bar(x + bar_width/2, non_stormy_faults, bar_width, label='Non-Stormy Weather', color='blue', alpha=0.7)\n",
    "\n",
    "# Formatting the plot\n",
    "plt.xlabel(\"Wind Speed (km/h)\")\n",
    "plt.ylabel(\"Number of Faults\")\n",
    "plt.title(\"Faults at Different Wind Speeds (Stormy vs. Non-Stormy)\")\n",
    "plt.xticks(ticks=x, labels=wind_speeds, rotation=45)\n",
    "plt.legend()\n",
    "plt.grid(axis='y', linestyle='--', alpha=0.7)\n",
    "\n",
    "# Show plot\n",
    "plt.show()\n"
   ]
  },
  {
   "cell_type": "code",
   "execution_count": null,
   "metadata": {},
   "outputs": [],
   "source": [
    "# Convert 'Fault ID' count to numeric for correlation calculation\n",
    "df_fault_data['fault_count'] = df_fault_data.groupby('wind_speed_(km/h)')['fault_id'].transform('count')\n",
    "\n",
    "# Compute correlation between wind speed and number of faults\n",
    "correlation = df_fault_data[['wind_speed_(km/h)', 'fault_count']].corr()\n",
    "\n",
    "# Display correlation result\n",
    "correlation\n"
   ]
  },
  {
   "cell_type": "markdown",
   "metadata": {},
   "source": [
    "**Identify the most severe faults requiring long recovery times**"
   ]
  },
  {
   "cell_type": "code",
   "execution_count": null,
   "metadata": {},
   "outputs": [],
   "source": [
    "# Calculate the 90th percentile for downtime and duration\n",
    "downtime_threshold = df_fault_data['down_time_(hrs)'].quantile(0.9)\n",
    "duration_threshold = df_fault_data['duration_of_fault_(hrs)'].quantile(0.9)\n",
    "\n",
    "# Filter severe faults\n",
    "severe_faults = df_fault_data[(df_fault_data['down_time_(hrs)'] >= downtime_threshold) | (df_fault_data['duration_of_fault_(hrs)'] >= duration_threshold)]\n",
    "print(severe_faults)"
   ]
  },
  {
   "cell_type": "markdown",
   "metadata": {},
   "source": [
    "Check which fault types are most common among severe faults"
   ]
  },
  {
   "cell_type": "code",
   "execution_count": null,
   "metadata": {},
   "outputs": [
    {
     "ename": "NameError",
     "evalue": "name 'severe_faults' is not defined",
     "output_type": "error",
     "traceback": [
      "\u001b[31m---------------------------------------------------------------------------\u001b[39m",
      "\u001b[31mNameError\u001b[39m                                 Traceback (most recent call last)",
      "\u001b[36mCell\u001b[39m\u001b[36m \u001b[39m\u001b[32mIn[21]\u001b[39m\u001b[32m, line 1\u001b[39m\n\u001b[32m----> \u001b[39m\u001b[32m1\u001b[39m severe_fault_type_distribution = \u001b[43msevere_faults\u001b[49m[\u001b[33m'\u001b[39m\u001b[33mfault_type\u001b[39m\u001b[33m'\u001b[39m].value_counts()\n\u001b[32m      3\u001b[39m \u001b[38;5;66;03m# Plot\u001b[39;00m\n\u001b[32m      4\u001b[39m plt.figure(figsize=(\u001b[32m10\u001b[39m, \u001b[32m6\u001b[39m))\n",
      "\u001b[31mNameError\u001b[39m: name 'severe_faults' is not defined"
     ]
    }
   ],
   "source": [
    "severe_fault_type_distribution = severe_faults['fault_type'].value_counts()\n",
    "\n",
    "# Plot\n",
    "plt.figure(figsize=(10, 6))\n",
    "sns.barplot(x=severe_fault_type_distribution.index, y=severe_fault_type_distribution.values)\n",
    "plt.title('Severe Faults by Fault Type')\n",
    "plt.xlabel('Fault Type')\n",
    "plt.ylabel('Count')\n",
    "plt.xticks(rotation=45)\n",
    "plt.show()\n",
    "\n"
   ]
  },
  {
   "cell_type": "markdown",
   "metadata": {},
   "source": [
    "Check the relationship between downtime and fault duration"
   ]
  },
  {
   "cell_type": "code",
   "execution_count": null,
   "metadata": {},
   "outputs": [
    {
     "ename": "NameError",
     "evalue": "name 'severe_faults' is not defined",
     "output_type": "error",
     "traceback": [
      "\u001b[31m---------------------------------------------------------------------------\u001b[39m",
      "\u001b[31mNameError\u001b[39m                                 Traceback (most recent call last)",
      "\u001b[36mCell\u001b[39m\u001b[36m \u001b[39m\u001b[32mIn[20]\u001b[39m\u001b[32m, line 2\u001b[39m\n\u001b[32m      1\u001b[39m plt.figure(figsize=(\u001b[32m10\u001b[39m, \u001b[32m6\u001b[39m))\n\u001b[32m----> \u001b[39m\u001b[32m2\u001b[39m sns.scatterplot(x=\u001b[33m'\u001b[39m\u001b[33mduration_of_fault_(hrs)\u001b[39m\u001b[33m'\u001b[39m, y=\u001b[33m'\u001b[39m\u001b[33mdown_time_(hrs)\u001b[39m\u001b[33m'\u001b[39m, data=\u001b[43msevere_faults\u001b[49m, hue=\u001b[33m'\u001b[39m\u001b[33mfault_type\u001b[39m\u001b[33m'\u001b[39m)\n\u001b[32m      3\u001b[39m plt.title(\u001b[33m'\u001b[39m\u001b[33mDowntime vs. Fault Duration for Severe Faults\u001b[39m\u001b[33m'\u001b[39m)\n\u001b[32m      4\u001b[39m plt.xlabel(\u001b[33m'\u001b[39m\u001b[33mFault Duration (hrs)\u001b[39m\u001b[33m'\u001b[39m)\n",
      "\u001b[31mNameError\u001b[39m: name 'severe_faults' is not defined"
     ]
    },
    {
     "data": {
      "text/plain": [
       "<Figure size 1000x600 with 0 Axes>"
      ]
     },
     "metadata": {},
     "output_type": "display_data"
    }
   ],
   "source": [
    "plt.figure(figsize=(10, 6))\n",
    "sns.scatterplot(x='duration_of_fault_(hrs)', y='down_time_(hrs)', data=severe_faults, hue='fault_type')\n",
    "plt.title('Downtime vs. Fault Duration for Severe Faults')\n",
    "plt.xlabel('Fault Duration (hrs)')\n",
    "plt.ylabel('Downtime (hrs)')\n",
    "plt.legend(bbox_to_anchor=(1.05, 1), loc='upper left')\n",
    "plt.show()"
   ]
  },
  {
   "cell_type": "markdown",
   "metadata": {},
   "source": [
    "**Component Health vs. Faults**"
   ]
  },
  {
   "cell_type": "code",
   "execution_count": null,
   "metadata": {},
   "outputs": [
    {
     "name": "stderr",
     "output_type": "stream",
     "text": [
      "C:\\Users\\maryo\\AppData\\Local\\Temp\\ipykernel_13800\\2351691332.py:6: FutureWarning: \n",
      "\n",
      "Passing `palette` without assigning `hue` is deprecated and will be removed in v0.14.0. Assign the `x` variable to `hue` and set `legend=False` for the same effect.\n",
      "\n",
      "  sns.barplot(x=health_analysis.index, y=health_analysis.values, palette=\"magma\")\n"
     ]
    },
    {
     "data": {
      "image/png": "[encoded data removed]",
      "text/plain": [
       "<Figure size 800x500 with 1 Axes>"
      ]
     },
     "metadata": {},
     "output_type": "display_data"
    }
   ],
   "source": [
    "# Count faults based on component health\n",
    "health_analysis = df_fault_data[\"component_health\"].value_counts()\n",
    "\n",
    "# Plot\n",
    "plt.figure(figsize=(8, 5))\n",
    "sns.barplot(x=health_analysis.index, y=health_analysis.values, palette=\"magma\")\n",
    "plt.xlabel(\"Component Health Status\")\n",
    "plt.ylabel(\"Number of Faults\")\n",
    "plt.title(\"Component Health vs. Fault Frequency\")\n",
    "plt.show()"
   ]
  },
  {
   "cell_type": "markdown",
   "metadata": {},
   "source": [
    "**Conclusion**\n",
    "\n",
    "This project explored fault analysis using Python to identify key failure patterns and system performance trends. \n",
    "\n",
    "\n",
    "The findings revealed that transformer failures and overheating were the most common fault types, indicating potential areas for preventive maintenance.\n",
    "\n",
    "\n",
    "A correlation analysis between temperature and power load showed a weak relationship (0.0886), suggesting that while temperature variations exist, they may not be the primary driver of increased load or failures. However, further investigation into weather conditions, such as high wind speeds during storms, is needed to determine their impact on system faults.\n",
    "\n",
    "\n",
    "Additionally, an assessment of component health and fault occurrences highlighted that poor component conditions are often linked to failures, reinforcing the importance of regular maintenance. Finally, faults with the longest recovery times were identified, providing insights into which failures cause significant downtime and require optimized repair strategies.\n",
    "\n",
    "\n",
    "Overall, this analysis helps improve fault detection, preventive maintenance, and system reliability, ensuring better operational efficiency."
   ]
  }
 ],
 "metadata": {
  "kernelspec": {
   "display_name": ".venv",
   "language": "python",
   "name": "python3"
  },
  "language_info": {
   "codemirror_mode": {
    "name": "ipython",
    "version": 3
   },
   "file_extension": ".py",
   "mimetype": "text/x-python",
   "name": "python",
   "nbconvert_exporter": "python",
   "pygments_lexer": "ipython3",
   "version": "3.13.1"
  }
 },
 "nbformat": 4,
 "nbformat_minor": 2
}
