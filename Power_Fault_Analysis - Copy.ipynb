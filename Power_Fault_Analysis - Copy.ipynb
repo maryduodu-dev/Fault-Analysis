{
 "cells": [
  {
   "cell_type": "code",
   "execution_count": null,
   "metadata": {},
   "outputs": [],
   "source": []
  },
  {
   "cell_type": "markdown",
   "metadata": {},
   "source": [
    "Loading Modules"
   ]
  },
  {
   "cell_type": "code",
   "execution_count": 1,
   "metadata": {},
   "outputs": [],
   "source": [
    "import numpy as np #linear algebra\n",
    "import pandas as pd #data processing\n",
    "\n",
    "#Visualization modules\n",
    "import seaborn as sns\n",
    "import matplotlib.pyplot as plt\n",
    "\n",
    "%matplotlib inline\n",
    "from matplotlib import cm #colormap"
   ]
  },
  {
   "cell_type": "markdown",
   "metadata": {},
   "source": [
    "Loading Dataset"
   ]
  },
  {
   "cell_type": "code",
   "execution_count": 97,
   "metadata": {},
   "outputs": [],
   "source": [
    "df_fault_data = pd.read_csv('C:/Users/maryo/Desktop/Data Analysis/Python Codes/Fault Analysis/fault_data.csv')"
   ]
  },
  {
   "cell_type": "markdown",
   "metadata": {},
   "source": [
    "Data Preparation"
   ]
  },
  {
   "cell_type": "code",
   "execution_count": null,
   "metadata": {},
   "outputs": [],
   "source": [
    "df_fault_data.head()\n"
   ]
  },
  {
   "cell_type": "code",
   "execution_count": 99,
   "metadata": {},
   "outputs": [
    {
     "name": "stdout",
     "output_type": "stream",
     "text": [
      "<class 'pandas.core.frame.DataFrame'>\n",
      "RangeIndex: 506 entries, 0 to 505\n",
      "Data columns (total 13 columns):\n",
      " #   Column                                Non-Null Count  Dtype  \n",
      "---  ------                                --------------  -----  \n",
      " 0   Fault ID                              506 non-null    object \n",
      " 1   Fault Type                            506 non-null    object \n",
      " 2   Fault Location (Latitude, Longitude)  506 non-null    object \n",
      " 3   Voltage (V)                           506 non-null    int64  \n",
      " 4   Current (A)                           506 non-null    int64  \n",
      " 5   Power Load (MW)                       506 non-null    int64  \n",
      " 6   Temperature (°C)                      506 non-null    int64  \n",
      " 7   Wind Speed (km/h)                     506 non-null    int64  \n",
      " 8   Weather Condition                     506 non-null    object \n",
      " 9   Maintenance Status                    506 non-null    object \n",
      " 10  Component Health                      506 non-null    object \n",
      " 11  Duration of Fault (hrs)               506 non-null    float64\n",
      " 12  Down time (hrs)                       506 non-null    float64\n",
      "dtypes: float64(2), int64(5), object(6)\n",
      "memory usage: 51.5+ KB\n"
     ]
    }
   ],
   "source": [
    "df_fault_data.info()"
   ]
  },
  {
   "cell_type": "code",
   "execution_count": 100,
   "metadata": {},
   "outputs": [
    {
     "data": {
      "text/html": [
       "<div>\n",
       "<style scoped>\n",
       "    .dataframe tbody tr th:only-of-type {\n",
       "        vertical-align: middle;\n",
       "    }\n",
       "\n",
       "    .dataframe tbody tr th {\n",
       "        vertical-align: top;\n",
       "    }\n",
       "\n",
       "    .dataframe thead th {\n",
       "        text-align: right;\n",
       "    }\n",
       "</style>\n",
       "<table border=\"1\" class=\"dataframe\">\n",
       "  <thead>\n",
       "    <tr style=\"text-align: right;\">\n",
       "      <th></th>\n",
       "      <th>Voltage (V)</th>\n",
       "      <th>Current (A)</th>\n",
       "      <th>Power Load (MW)</th>\n",
       "      <th>Temperature (°C)</th>\n",
       "      <th>Wind Speed (km/h)</th>\n",
       "      <th>Duration of Fault (hrs)</th>\n",
       "      <th>Down time (hrs)</th>\n",
       "    </tr>\n",
       "  </thead>\n",
       "  <tbody>\n",
       "    <tr>\n",
       "      <th>count</th>\n",
       "      <td>506.000000</td>\n",
       "      <td>506.000000</td>\n",
       "      <td>506.000000</td>\n",
       "      <td>506.000000</td>\n",
       "      <td>506.000000</td>\n",
       "      <td>506.000000</td>\n",
       "      <td>506.000000</td>\n",
       "    </tr>\n",
       "    <tr>\n",
       "      <th>mean</th>\n",
       "      <td>2049.636364</td>\n",
       "      <td>216.458498</td>\n",
       "      <td>50.011858</td>\n",
       "      <td>30.166008</td>\n",
       "      <td>19.739130</td>\n",
       "      <td>4.008103</td>\n",
       "      <td>3.999802</td>\n",
       "    </tr>\n",
       "    <tr>\n",
       "      <th>std</th>\n",
       "      <td>142.054146</td>\n",
       "      <td>21.499787</td>\n",
       "      <td>3.102834</td>\n",
       "      <td>6.118315</td>\n",
       "      <td>5.863052</td>\n",
       "      <td>1.147271</td>\n",
       "      <td>1.842367</td>\n",
       "    </tr>\n",
       "    <tr>\n",
       "      <th>min</th>\n",
       "      <td>1800.000000</td>\n",
       "      <td>180.000000</td>\n",
       "      <td>45.000000</td>\n",
       "      <td>20.000000</td>\n",
       "      <td>10.000000</td>\n",
       "      <td>2.000000</td>\n",
       "      <td>1.000000</td>\n",
       "    </tr>\n",
       "    <tr>\n",
       "      <th>25%</th>\n",
       "      <td>1923.000000</td>\n",
       "      <td>197.250000</td>\n",
       "      <td>47.000000</td>\n",
       "      <td>25.000000</td>\n",
       "      <td>15.000000</td>\n",
       "      <td>3.000000</td>\n",
       "      <td>2.300000</td>\n",
       "    </tr>\n",
       "    <tr>\n",
       "      <th>50%</th>\n",
       "      <td>2058.000000</td>\n",
       "      <td>218.000000</td>\n",
       "      <td>50.000000</td>\n",
       "      <td>30.000000</td>\n",
       "      <td>19.500000</td>\n",
       "      <td>4.000000</td>\n",
       "      <td>4.000000</td>\n",
       "    </tr>\n",
       "    <tr>\n",
       "      <th>75%</th>\n",
       "      <td>2165.750000</td>\n",
       "      <td>235.000000</td>\n",
       "      <td>53.000000</td>\n",
       "      <td>36.000000</td>\n",
       "      <td>25.000000</td>\n",
       "      <td>5.000000</td>\n",
       "      <td>5.700000</td>\n",
       "    </tr>\n",
       "    <tr>\n",
       "      <th>max</th>\n",
       "      <td>2300.000000</td>\n",
       "      <td>250.000000</td>\n",
       "      <td>55.000000</td>\n",
       "      <td>40.000000</td>\n",
       "      <td>30.000000</td>\n",
       "      <td>6.000000</td>\n",
       "      <td>7.000000</td>\n",
       "    </tr>\n",
       "  </tbody>\n",
       "</table>\n",
       "</div>"
      ],
      "text/plain": [
       "       Voltage (V)  Current (A)  Power Load (MW)  Temperature (°C)  \\\n",
       "count   506.000000   506.000000       506.000000        506.000000   \n",
       "mean   2049.636364   216.458498        50.011858         30.166008   \n",
       "std     142.054146    21.499787         3.102834          6.118315   \n",
       "min    1800.000000   180.000000        45.000000         20.000000   \n",
       "25%    1923.000000   197.250000        47.000000         25.000000   \n",
       "50%    2058.000000   218.000000        50.000000         30.000000   \n",
       "75%    2165.750000   235.000000        53.000000         36.000000   \n",
       "max    2300.000000   250.000000        55.000000         40.000000   \n",
       "\n",
       "       Wind Speed (km/h)  Duration of Fault (hrs)  Down time (hrs)  \n",
       "count         506.000000               506.000000       506.000000  \n",
       "mean           19.739130                 4.008103         3.999802  \n",
       "std             5.863052                 1.147271         1.842367  \n",
       "min            10.000000                 2.000000         1.000000  \n",
       "25%            15.000000                 3.000000         2.300000  \n",
       "50%            19.500000                 4.000000         4.000000  \n",
       "75%            25.000000                 5.000000         5.700000  \n",
       "max            30.000000                 6.000000         7.000000  "
      ]
     },
     "execution_count": 100,
     "metadata": {},
     "output_type": "execute_result"
    }
   ],
   "source": [
    "df_fault_data.describe()"
   ]
  },
  {
   "cell_type": "code",
   "execution_count": 101,
   "metadata": {},
   "outputs": [
    {
     "name": "stdout",
     "output_type": "stream",
     "text": [
      "0\n"
     ]
    }
   ],
   "source": [
    "print(df_fault_data.duplicated().sum())"
   ]
  },
  {
   "cell_type": "markdown",
   "metadata": {},
   "source": [
    "Data Cleaning"
   ]
  },
  {
   "cell_type": "code",
   "execution_count": null,
   "metadata": {},
   "outputs": [],
   "source": [
    "#Standardize Column Names\n",
    "df_fault_data.columns = df_fault_data.columns.str.lower().str.replace(' ', '_')\n",
    "df_fault_data['weather_condition'] = df_fault_data['weather_condition'].str.strip()\n",
    "df_fault_data['maintenance_status'] = df_fault_data['maintenance_status'].str.strip()\n",
    "df_fault_data['component_health'] = df_fault_data['component_health'].str.strip()\n",
    "\n",
    "#Standardize Formatting Type\n",
    "df_fault_data['fault_id'] = df_fault_data['fault_id'].astype('string')\n",
    "df_fault_data['fault_type'] = df_fault_data['fault_type'].astype('string')\n",
    "df_fault_data['fault_location_(latitude,_longitude)'] = df_fault_data['fault_location_(latitude,_longitude)'].astype('string')\n",
    "df_fault_data['weather_condition'] = df_fault_data['weather_condition'].astype('string')\n",
    "df_fault_data['maintenance_status'] = df_fault_data['maintenance_status'].astype('string')\n",
    "df_fault_data['component_health'] = df_fault_data['component_health'].astype('string')\n",
    "\n",
    "\n",
    "display(df_fault_data.head())\n"
   ]
  },
  {
   "cell_type": "code",
   "execution_count": 127,
   "metadata": {},
   "outputs": [
    {
     "name": "stdout",
     "output_type": "stream",
     "text": [
      "No duplicate Fault IDs found.\n"
     ]
    }
   ],
   "source": [
    "# Check for duplicates in the 'Fault ID' column\n",
    "duplicates = df_fault_data[df_fault_data.duplicated('fault_id', keep=False)]\n",
    "\n",
    "# Display the duplicate rows (if any)\n",
    "if not duplicates.empty:\n",
    "    print(\"Duplicate Fault IDs found:\")\n",
    "    print(duplicates[['fault_id', 'fault_type', 'down_time_(hrs)']])\n",
    "else:\n",
    "    print(\"No duplicate Fault IDs found.\")"
   ]
  },
  {
   "cell_type": "markdown",
   "metadata": {},
   "source": [
    "Dealing with Outliers"
   ]
  },
  {
   "cell_type": "code",
   "execution_count": 104,
   "metadata": {},
   "outputs": [
    {
     "name": "stdout",
     "output_type": "stream",
     "text": [
      "Dataset after outlier removal: (506, 13)\n"
     ]
    },
    {
     "data": {
      "text/html": [
       "<div>\n",
       "<style scoped>\n",
       "    .dataframe tbody tr th:only-of-type {\n",
       "        vertical-align: middle;\n",
       "    }\n",
       "\n",
       "    .dataframe tbody tr th {\n",
       "        vertical-align: top;\n",
       "    }\n",
       "\n",
       "    .dataframe thead th {\n",
       "        text-align: right;\n",
       "    }\n",
       "</style>\n",
       "<table border=\"1\" class=\"dataframe\">\n",
       "  <thead>\n",
       "    <tr style=\"text-align: right;\">\n",
       "      <th></th>\n",
       "      <th>fault_id</th>\n",
       "      <th>fault_type</th>\n",
       "      <th>fault_location_(latitude,_longitude)</th>\n",
       "      <th>voltage_(v)</th>\n",
       "      <th>current_(a)</th>\n",
       "      <th>power_load_(mw)</th>\n",
       "      <th>temperature_(°c)</th>\n",
       "      <th>wind_speed_(km/h)</th>\n",
       "      <th>weather_condition</th>\n",
       "      <th>maintenance_status</th>\n",
       "      <th>component_health</th>\n",
       "      <th>duration_of_fault_(hrs)</th>\n",
       "      <th>down_time_(hrs)</th>\n",
       "    </tr>\n",
       "  </thead>\n",
       "  <tbody>\n",
       "    <tr>\n",
       "      <th>0</th>\n",
       "      <td>F001</td>\n",
       "      <td>Line Breakage</td>\n",
       "      <td>(34.0522, -118.2437)</td>\n",
       "      <td>2200</td>\n",
       "      <td>250</td>\n",
       "      <td>50</td>\n",
       "      <td>25</td>\n",
       "      <td>20</td>\n",
       "      <td>Clear</td>\n",
       "      <td>Scheduled</td>\n",
       "      <td>Normal</td>\n",
       "      <td>2.0</td>\n",
       "      <td>1.0</td>\n",
       "    </tr>\n",
       "    <tr>\n",
       "      <th>1</th>\n",
       "      <td>F002</td>\n",
       "      <td>Transformer Failure</td>\n",
       "      <td>(34.056, -118.245)</td>\n",
       "      <td>1800</td>\n",
       "      <td>180</td>\n",
       "      <td>45</td>\n",
       "      <td>28</td>\n",
       "      <td>15</td>\n",
       "      <td>Rainy</td>\n",
       "      <td>Completed</td>\n",
       "      <td>Faulty</td>\n",
       "      <td>3.0</td>\n",
       "      <td>5.0</td>\n",
       "    </tr>\n",
       "    <tr>\n",
       "      <th>2</th>\n",
       "      <td>F003</td>\n",
       "      <td>Overheating</td>\n",
       "      <td>(34.0525, -118.244)</td>\n",
       "      <td>2100</td>\n",
       "      <td>230</td>\n",
       "      <td>55</td>\n",
       "      <td>35</td>\n",
       "      <td>25</td>\n",
       "      <td>Windstorm</td>\n",
       "      <td>Pending</td>\n",
       "      <td>Overheated</td>\n",
       "      <td>4.0</td>\n",
       "      <td>6.0</td>\n",
       "    </tr>\n",
       "    <tr>\n",
       "      <th>3</th>\n",
       "      <td>F004</td>\n",
       "      <td>Line Breakage</td>\n",
       "      <td>(34.055, -118.242)</td>\n",
       "      <td>2050</td>\n",
       "      <td>240</td>\n",
       "      <td>48</td>\n",
       "      <td>23</td>\n",
       "      <td>10</td>\n",
       "      <td>Clear</td>\n",
       "      <td>Completed</td>\n",
       "      <td>Normal</td>\n",
       "      <td>2.5</td>\n",
       "      <td>3.0</td>\n",
       "    </tr>\n",
       "    <tr>\n",
       "      <th>4</th>\n",
       "      <td>F005</td>\n",
       "      <td>Transformer Failure</td>\n",
       "      <td>(34.0545, -118.243)</td>\n",
       "      <td>1900</td>\n",
       "      <td>190</td>\n",
       "      <td>50</td>\n",
       "      <td>30</td>\n",
       "      <td>18</td>\n",
       "      <td>Snowy</td>\n",
       "      <td>Scheduled</td>\n",
       "      <td>Faulty</td>\n",
       "      <td>3.5</td>\n",
       "      <td>4.0</td>\n",
       "    </tr>\n",
       "  </tbody>\n",
       "</table>\n",
       "</div>"
      ],
      "text/plain": [
       "  fault_id           fault_type fault_location_(latitude,_longitude)  \\\n",
       "0     F001        Line Breakage                 (34.0522, -118.2437)   \n",
       "1     F002  Transformer Failure                   (34.056, -118.245)   \n",
       "2     F003          Overheating                  (34.0525, -118.244)   \n",
       "3     F004        Line Breakage                   (34.055, -118.242)   \n",
       "4     F005  Transformer Failure                  (34.0545, -118.243)   \n",
       "\n",
       "   voltage_(v)  current_(a)  power_load_(mw)  temperature_(°c)  \\\n",
       "0         2200          250               50                25   \n",
       "1         1800          180               45                28   \n",
       "2         2100          230               55                35   \n",
       "3         2050          240               48                23   \n",
       "4         1900          190               50                30   \n",
       "\n",
       "   wind_speed_(km/h) weather_condition maintenance_status component_health  \\\n",
       "0                 20             Clear          Scheduled           Normal   \n",
       "1                 15             Rainy          Completed           Faulty   \n",
       "2                 25         Windstorm            Pending       Overheated   \n",
       "3                 10             Clear          Completed           Normal   \n",
       "4                 18             Snowy          Scheduled           Faulty   \n",
       "\n",
       "   duration_of_fault_(hrs)  down_time_(hrs)  \n",
       "0                      2.0              1.0  \n",
       "1                      3.0              5.0  \n",
       "2                      4.0              6.0  \n",
       "3                      2.5              3.0  \n",
       "4                      3.5              4.0  "
      ]
     },
     "metadata": {},
     "output_type": "display_data"
    },
    {
     "data": {
      "text/html": [
       "<div>\n",
       "<style scoped>\n",
       "    .dataframe tbody tr th:only-of-type {\n",
       "        vertical-align: middle;\n",
       "    }\n",
       "\n",
       "    .dataframe tbody tr th {\n",
       "        vertical-align: top;\n",
       "    }\n",
       "\n",
       "    .dataframe thead th {\n",
       "        text-align: right;\n",
       "    }\n",
       "</style>\n",
       "<table border=\"1\" class=\"dataframe\">\n",
       "  <thead>\n",
       "    <tr style=\"text-align: right;\">\n",
       "      <th></th>\n",
       "      <th>fault_id</th>\n",
       "      <th>fault_type</th>\n",
       "      <th>fault_location_(latitude,_longitude)</th>\n",
       "      <th>voltage_(v)</th>\n",
       "      <th>current_(a)</th>\n",
       "      <th>power_load_(mw)</th>\n",
       "      <th>temperature_(°c)</th>\n",
       "      <th>wind_speed_(km/h)</th>\n",
       "      <th>weather_condition</th>\n",
       "      <th>maintenance_status</th>\n",
       "      <th>component_health</th>\n",
       "      <th>duration_of_fault_(hrs)</th>\n",
       "      <th>down_time_(hrs)</th>\n",
       "    </tr>\n",
       "  </thead>\n",
       "  <tbody>\n",
       "    <tr>\n",
       "      <th>0</th>\n",
       "      <td>F001</td>\n",
       "      <td>Line Breakage</td>\n",
       "      <td>(34.0522, -118.2437)</td>\n",
       "      <td>2200</td>\n",
       "      <td>250</td>\n",
       "      <td>50</td>\n",
       "      <td>25</td>\n",
       "      <td>20</td>\n",
       "      <td>Clear</td>\n",
       "      <td>Scheduled</td>\n",
       "      <td>Normal</td>\n",
       "      <td>2.0</td>\n",
       "      <td>1.0</td>\n",
       "    </tr>\n",
       "    <tr>\n",
       "      <th>1</th>\n",
       "      <td>F002</td>\n",
       "      <td>Transformer Failure</td>\n",
       "      <td>(34.056, -118.245)</td>\n",
       "      <td>1800</td>\n",
       "      <td>180</td>\n",
       "      <td>45</td>\n",
       "      <td>28</td>\n",
       "      <td>15</td>\n",
       "      <td>Rainy</td>\n",
       "      <td>Completed</td>\n",
       "      <td>Faulty</td>\n",
       "      <td>3.0</td>\n",
       "      <td>5.0</td>\n",
       "    </tr>\n",
       "    <tr>\n",
       "      <th>2</th>\n",
       "      <td>F003</td>\n",
       "      <td>Overheating</td>\n",
       "      <td>(34.0525, -118.244)</td>\n",
       "      <td>2100</td>\n",
       "      <td>230</td>\n",
       "      <td>55</td>\n",
       "      <td>35</td>\n",
       "      <td>25</td>\n",
       "      <td>Windstorm</td>\n",
       "      <td>Pending</td>\n",
       "      <td>Overheated</td>\n",
       "      <td>4.0</td>\n",
       "      <td>6.0</td>\n",
       "    </tr>\n",
       "    <tr>\n",
       "      <th>3</th>\n",
       "      <td>F004</td>\n",
       "      <td>Line Breakage</td>\n",
       "      <td>(34.055, -118.242)</td>\n",
       "      <td>2050</td>\n",
       "      <td>240</td>\n",
       "      <td>48</td>\n",
       "      <td>23</td>\n",
       "      <td>10</td>\n",
       "      <td>Clear</td>\n",
       "      <td>Completed</td>\n",
       "      <td>Normal</td>\n",
       "      <td>2.5</td>\n",
       "      <td>3.0</td>\n",
       "    </tr>\n",
       "    <tr>\n",
       "      <th>4</th>\n",
       "      <td>F005</td>\n",
       "      <td>Transformer Failure</td>\n",
       "      <td>(34.0545, -118.243)</td>\n",
       "      <td>1900</td>\n",
       "      <td>190</td>\n",
       "      <td>50</td>\n",
       "      <td>30</td>\n",
       "      <td>18</td>\n",
       "      <td>Snowy</td>\n",
       "      <td>Scheduled</td>\n",
       "      <td>Faulty</td>\n",
       "      <td>3.5</td>\n",
       "      <td>4.0</td>\n",
       "    </tr>\n",
       "  </tbody>\n",
       "</table>\n",
       "</div>"
      ],
      "text/plain": [
       "  fault_id           fault_type fault_location_(latitude,_longitude)  \\\n",
       "0     F001        Line Breakage                 (34.0522, -118.2437)   \n",
       "1     F002  Transformer Failure                   (34.056, -118.245)   \n",
       "2     F003          Overheating                  (34.0525, -118.244)   \n",
       "3     F004        Line Breakage                   (34.055, -118.242)   \n",
       "4     F005  Transformer Failure                  (34.0545, -118.243)   \n",
       "\n",
       "   voltage_(v)  current_(a)  power_load_(mw)  temperature_(°c)  \\\n",
       "0         2200          250               50                25   \n",
       "1         1800          180               45                28   \n",
       "2         2100          230               55                35   \n",
       "3         2050          240               48                23   \n",
       "4         1900          190               50                30   \n",
       "\n",
       "   wind_speed_(km/h) weather_condition maintenance_status component_health  \\\n",
       "0                 20             Clear          Scheduled           Normal   \n",
       "1                 15             Rainy          Completed           Faulty   \n",
       "2                 25         Windstorm            Pending       Overheated   \n",
       "3                 10             Clear          Completed           Normal   \n",
       "4                 18             Snowy          Scheduled           Faulty   \n",
       "\n",
       "   duration_of_fault_(hrs)  down_time_(hrs)  \n",
       "0                      2.0              1.0  \n",
       "1                      3.0              5.0  \n",
       "2                      4.0              6.0  \n",
       "3                      2.5              3.0  \n",
       "4                      3.5              4.0  "
      ]
     },
     "execution_count": 104,
     "metadata": {},
     "output_type": "execute_result"
    }
   ],
   "source": [
    "# Function to remove outliers using the IQR method\n",
    "def remove_outliers(df, column):\n",
    "    Q1 = df[column].quantile(0.25)\n",
    "    Q3 = df[column].quantile(0.75)\n",
    "    IQR = Q3 - Q1\n",
    "    lower_bound = Q1 - 1.5 * IQR\n",
    "    upper_bound = Q3 + 1.5 * IQR\n",
    "    return df[(df[column] >= lower_bound) & (df[column] <= upper_bound)]\n",
    "\n",
    "# List of numerical columns to clean\n",
    "numerical_cols = ['voltage_(v)', 'current_(a)', 'power_load_(mw)', 'temperature_(°c)', 'wind_speed_(km/h)']\n",
    "\n",
    "\n",
    "# Apply outlier removal\n",
    "for col in numerical_cols:\n",
    "    if col in df_fault_data.columns:\n",
    "        df_fault_data = remove_outliers(df_fault_data, col)\n",
    "    else:\n",
    "        print(f\"Warning: Column '{col}' not found in the dataset.\")\n",
    "\n",
    "\n",
    "# Check final shape\n",
    "print(f\"Dataset after outlier removal: {df_fault_data.shape}\")\n",
    "display(df_fault_data.head())\n",
    "df_fault_data.head()"
   ]
  },
  {
   "cell_type": "markdown",
   "metadata": {},
   "source": [
    "Data Analysis\n",
    "\n",
    ". Identify the most common fault types\n",
    "\n",
    ". Check if higher temperatures lead to increased load/failures\n",
    "\n",
    ". See if high wind speeds during storms increase faults\n",
    "\n",
    ". Maintenance status impact on downtime\n",
    "\n",
    ". Identify the most severe faults requiring long recovery times\n",
    "\n",
    ". Identify peak failure times to improve response planning\n",
    "\n",
    ". Fault Duration Prediction Model\n",
    "\n"
   ]
  },
  {
   "cell_type": "markdown",
   "metadata": {},
   "source": [
    "**Identify the most common fault types**"
   ]
  },
  {
   "cell_type": "code",
   "execution_count": 105,
   "metadata": {},
   "outputs": [
    {
     "data": {
      "text/plain": [
       "fault_type\n",
       "Transformer Failure    171\n",
       "Overheating            171\n",
       "Line Breakage          164\n",
       "Name: count, dtype: Int64"
      ]
     },
     "metadata": {},
     "output_type": "display_data"
    },
    {
     "data": {
      "text/html": [
       "<div>\n",
       "<style scoped>\n",
       "    .dataframe tbody tr th:only-of-type {\n",
       "        vertical-align: middle;\n",
       "    }\n",
       "\n",
       "    .dataframe tbody tr th {\n",
       "        vertical-align: top;\n",
       "    }\n",
       "\n",
       "    .dataframe thead th {\n",
       "        text-align: right;\n",
       "    }\n",
       "</style>\n",
       "<table border=\"1\" class=\"dataframe\">\n",
       "  <thead>\n",
       "    <tr style=\"text-align: right;\">\n",
       "      <th></th>\n",
       "      <th>fault_id</th>\n",
       "      <th>fault_type</th>\n",
       "      <th>fault_location_(latitude,_longitude)</th>\n",
       "      <th>voltage_(v)</th>\n",
       "      <th>current_(a)</th>\n",
       "      <th>power_load_(mw)</th>\n",
       "      <th>temperature_(°c)</th>\n",
       "      <th>wind_speed_(km/h)</th>\n",
       "      <th>weather_condition</th>\n",
       "      <th>maintenance_status</th>\n",
       "      <th>component_health</th>\n",
       "      <th>duration_of_fault_(hrs)</th>\n",
       "      <th>down_time_(hrs)</th>\n",
       "    </tr>\n",
       "  </thead>\n",
       "  <tbody>\n",
       "    <tr>\n",
       "      <th>0</th>\n",
       "      <td>F001</td>\n",
       "      <td>Line Breakage</td>\n",
       "      <td>(34.0522, -118.2437)</td>\n",
       "      <td>2200</td>\n",
       "      <td>250</td>\n",
       "      <td>50</td>\n",
       "      <td>25</td>\n",
       "      <td>20</td>\n",
       "      <td>Clear</td>\n",
       "      <td>Scheduled</td>\n",
       "      <td>Normal</td>\n",
       "      <td>2.0</td>\n",
       "      <td>1.0</td>\n",
       "    </tr>\n",
       "    <tr>\n",
       "      <th>1</th>\n",
       "      <td>F002</td>\n",
       "      <td>Transformer Failure</td>\n",
       "      <td>(34.056, -118.245)</td>\n",
       "      <td>1800</td>\n",
       "      <td>180</td>\n",
       "      <td>45</td>\n",
       "      <td>28</td>\n",
       "      <td>15</td>\n",
       "      <td>Rainy</td>\n",
       "      <td>Completed</td>\n",
       "      <td>Faulty</td>\n",
       "      <td>3.0</td>\n",
       "      <td>5.0</td>\n",
       "    </tr>\n",
       "    <tr>\n",
       "      <th>2</th>\n",
       "      <td>F003</td>\n",
       "      <td>Overheating</td>\n",
       "      <td>(34.0525, -118.244)</td>\n",
       "      <td>2100</td>\n",
       "      <td>230</td>\n",
       "      <td>55</td>\n",
       "      <td>35</td>\n",
       "      <td>25</td>\n",
       "      <td>Windstorm</td>\n",
       "      <td>Pending</td>\n",
       "      <td>Overheated</td>\n",
       "      <td>4.0</td>\n",
       "      <td>6.0</td>\n",
       "    </tr>\n",
       "    <tr>\n",
       "      <th>3</th>\n",
       "      <td>F004</td>\n",
       "      <td>Line Breakage</td>\n",
       "      <td>(34.055, -118.242)</td>\n",
       "      <td>2050</td>\n",
       "      <td>240</td>\n",
       "      <td>48</td>\n",
       "      <td>23</td>\n",
       "      <td>10</td>\n",
       "      <td>Clear</td>\n",
       "      <td>Completed</td>\n",
       "      <td>Normal</td>\n",
       "      <td>2.5</td>\n",
       "      <td>3.0</td>\n",
       "    </tr>\n",
       "    <tr>\n",
       "      <th>4</th>\n",
       "      <td>F005</td>\n",
       "      <td>Transformer Failure</td>\n",
       "      <td>(34.0545, -118.243)</td>\n",
       "      <td>1900</td>\n",
       "      <td>190</td>\n",
       "      <td>50</td>\n",
       "      <td>30</td>\n",
       "      <td>18</td>\n",
       "      <td>Snowy</td>\n",
       "      <td>Scheduled</td>\n",
       "      <td>Faulty</td>\n",
       "      <td>3.5</td>\n",
       "      <td>4.0</td>\n",
       "    </tr>\n",
       "  </tbody>\n",
       "</table>\n",
       "</div>"
      ],
      "text/plain": [
       "  fault_id           fault_type fault_location_(latitude,_longitude)  \\\n",
       "0     F001        Line Breakage                 (34.0522, -118.2437)   \n",
       "1     F002  Transformer Failure                   (34.056, -118.245)   \n",
       "2     F003          Overheating                  (34.0525, -118.244)   \n",
       "3     F004        Line Breakage                   (34.055, -118.242)   \n",
       "4     F005  Transformer Failure                  (34.0545, -118.243)   \n",
       "\n",
       "   voltage_(v)  current_(a)  power_load_(mw)  temperature_(°c)  \\\n",
       "0         2200          250               50                25   \n",
       "1         1800          180               45                28   \n",
       "2         2100          230               55                35   \n",
       "3         2050          240               48                23   \n",
       "4         1900          190               50                30   \n",
       "\n",
       "   wind_speed_(km/h) weather_condition maintenance_status component_health  \\\n",
       "0                 20             Clear          Scheduled           Normal   \n",
       "1                 15             Rainy          Completed           Faulty   \n",
       "2                 25         Windstorm            Pending       Overheated   \n",
       "3                 10             Clear          Completed           Normal   \n",
       "4                 18             Snowy          Scheduled           Faulty   \n",
       "\n",
       "   duration_of_fault_(hrs)  down_time_(hrs)  \n",
       "0                      2.0              1.0  \n",
       "1                      3.0              5.0  \n",
       "2                      4.0              6.0  \n",
       "3                      2.5              3.0  \n",
       "4                      3.5              4.0  "
      ]
     },
     "execution_count": 105,
     "metadata": {},
     "output_type": "execute_result"
    }
   ],
   "source": [
    "# Count occurrences of each fault type\n",
    "fault_counts = df_fault_data['fault_type'].value_counts()\n",
    "\n",
    "# Display the most common fault types\n",
    "display(fault_counts)\n",
    "df_fault_data.head()"
   ]
  },
  {
   "cell_type": "markdown",
   "metadata": {},
   "source": [
    "Visualizing the Output in a Bar Chart"
   ]
  },
  {
   "cell_type": "code",
   "execution_count": 106,
   "metadata": {},
   "outputs": [
    {
     "data": {
      "image/png": "[encoded data removed]",
      "text/plain": [
       "<Figure size 640x480 with 1 Axes>"
      ]
     },
     "metadata": {},
     "output_type": "display_data"
    }
   ],
   "source": [
    "# Plot a bar chart of fault types\n",
    "fault_counts.plot(kind='bar', color='pink', edgecolor='black')\n",
    "plt.title(\"Most Common Fault Types\")\n",
    "plt.xlabel(\"Fault Type\")\n",
    "plt.ylabel(\"Count\")\n",
    "plt.xticks(rotation=45)\n",
    "plt.show()"
   ]
  },
  {
   "cell_type": "markdown",
   "metadata": {},
   "source": [
    "**Check if higher temperatures lead to increased load/failures**"
   ]
  },
  {
   "cell_type": "code",
   "execution_count": 107,
   "metadata": {},
   "outputs": [
    {
     "name": "stdout",
     "output_type": "stream",
     "text": [
      "Correlation between Temperature and Power Load:\n",
      "                  temperature_(°c)  power_load_(mw)\n",
      "temperature_(°c)          1.000000         0.088662\n",
      "power_load_(mw)           0.088662         1.000000\n"
     ]
    }
   ],
   "source": [
    "\n",
    "# Compute correlation\n",
    "correlation = df_fault_data[['temperature_(°c)', 'power_load_(mw)']].corr()\n",
    "\n",
    "# Display correlation value\n",
    "print(\"Correlation between Temperature and Power Load:\")\n",
    "print(correlation)"
   ]
  },
  {
   "cell_type": "markdown",
   "metadata": {},
   "source": [
    "Visualizing Faults at Different Temperatures"
   ]
  },
  {
   "cell_type": "code",
   "execution_count": 108,
   "metadata": {},
   "outputs": [
    {
     "data": {
      "image/png": "[encoded data removed]",
      "text/plain": [
       "<Figure size 800x500 with 1 Axes>"
      ]
     },
     "metadata": {},
     "output_type": "display_data"
    }
   ],
   "source": [
    "\n",
    "plt.figure(figsize=(8, 5))\n",
    "sns.regplot(x=df_fault_data['temperature_(°c)'], y=df_fault_data['power_load_(mw)'], scatter_kws={'alpha':0.5}, line_kws={'color': 'red'})\n",
    "\n",
    "plt.xlabel(\"Temperature (°C)\")\n",
    "plt.ylabel(\"Power Load (MW)\")\n",
    "plt.title(\"Temperature vs Power Load with Trendline\")\n",
    "plt.show()"
   ]
  },
  {
   "cell_type": "markdown",
   "metadata": {},
   "source": [
    "**See if high wind speeds during storms increase faults**"
   ]
  },
  {
   "cell_type": "code",
   "execution_count": 109,
   "metadata": {},
   "outputs": [
    {
     "data": {
      "text/html": [
       "<div>\n",
       "<style scoped>\n",
       "    .dataframe tbody tr th:only-of-type {\n",
       "        vertical-align: middle;\n",
       "    }\n",
       "\n",
       "    .dataframe tbody tr th {\n",
       "        vertical-align: top;\n",
       "    }\n",
       "\n",
       "    .dataframe thead th {\n",
       "        text-align: right;\n",
       "    }\n",
       "</style>\n",
       "<table border=\"1\" class=\"dataframe\">\n",
       "  <thead>\n",
       "    <tr style=\"text-align: right;\">\n",
       "      <th>Stormy</th>\n",
       "      <th>False</th>\n",
       "      <th>True</th>\n",
       "    </tr>\n",
       "    <tr>\n",
       "      <th>wind_speed_(km/h)</th>\n",
       "      <th></th>\n",
       "      <th></th>\n",
       "    </tr>\n",
       "  </thead>\n",
       "  <tbody>\n",
       "    <tr>\n",
       "      <th>10</th>\n",
       "      <td>14</td>\n",
       "      <td>9</td>\n",
       "    </tr>\n",
       "    <tr>\n",
       "      <th>11</th>\n",
       "      <td>11</td>\n",
       "      <td>9</td>\n",
       "    </tr>\n",
       "    <tr>\n",
       "      <th>12</th>\n",
       "      <td>9</td>\n",
       "      <td>4</td>\n",
       "    </tr>\n",
       "    <tr>\n",
       "      <th>13</th>\n",
       "      <td>23</td>\n",
       "      <td>14</td>\n",
       "    </tr>\n",
       "    <tr>\n",
       "      <th>14</th>\n",
       "      <td>25</td>\n",
       "      <td>4</td>\n",
       "    </tr>\n",
       "    <tr>\n",
       "      <th>15</th>\n",
       "      <td>23</td>\n",
       "      <td>8</td>\n",
       "    </tr>\n",
       "    <tr>\n",
       "      <th>16</th>\n",
       "      <td>13</td>\n",
       "      <td>12</td>\n",
       "    </tr>\n",
       "    <tr>\n",
       "      <th>17</th>\n",
       "      <td>16</td>\n",
       "      <td>5</td>\n",
       "    </tr>\n",
       "    <tr>\n",
       "      <th>18</th>\n",
       "      <td>17</td>\n",
       "      <td>14</td>\n",
       "    </tr>\n",
       "    <tr>\n",
       "      <th>19</th>\n",
       "      <td>12</td>\n",
       "      <td>11</td>\n",
       "    </tr>\n",
       "    <tr>\n",
       "      <th>20</th>\n",
       "      <td>13</td>\n",
       "      <td>9</td>\n",
       "    </tr>\n",
       "    <tr>\n",
       "      <th>21</th>\n",
       "      <td>14</td>\n",
       "      <td>8</td>\n",
       "    </tr>\n",
       "    <tr>\n",
       "      <th>22</th>\n",
       "      <td>18</td>\n",
       "      <td>12</td>\n",
       "    </tr>\n",
       "    <tr>\n",
       "      <th>23</th>\n",
       "      <td>17</td>\n",
       "      <td>8</td>\n",
       "    </tr>\n",
       "    <tr>\n",
       "      <th>24</th>\n",
       "      <td>16</td>\n",
       "      <td>8</td>\n",
       "    </tr>\n",
       "    <tr>\n",
       "      <th>25</th>\n",
       "      <td>11</td>\n",
       "      <td>12</td>\n",
       "    </tr>\n",
       "    <tr>\n",
       "      <th>26</th>\n",
       "      <td>18</td>\n",
       "      <td>4</td>\n",
       "    </tr>\n",
       "    <tr>\n",
       "      <th>27</th>\n",
       "      <td>8</td>\n",
       "      <td>10</td>\n",
       "    </tr>\n",
       "    <tr>\n",
       "      <th>28</th>\n",
       "      <td>17</td>\n",
       "      <td>11</td>\n",
       "    </tr>\n",
       "    <tr>\n",
       "      <th>29</th>\n",
       "      <td>12</td>\n",
       "      <td>10</td>\n",
       "    </tr>\n",
       "    <tr>\n",
       "      <th>30</th>\n",
       "      <td>12</td>\n",
       "      <td>5</td>\n",
       "    </tr>\n",
       "  </tbody>\n",
       "</table>\n",
       "</div>"
      ],
      "text/plain": [
       "Stormy             False  True \n",
       "wind_speed_(km/h)              \n",
       "10                    14      9\n",
       "11                    11      9\n",
       "12                     9      4\n",
       "13                    23     14\n",
       "14                    25      4\n",
       "15                    23      8\n",
       "16                    13     12\n",
       "17                    16      5\n",
       "18                    17     14\n",
       "19                    12     11\n",
       "20                    13      9\n",
       "21                    14      8\n",
       "22                    18     12\n",
       "23                    17      8\n",
       "24                    16      8\n",
       "25                    11     12\n",
       "26                    18      4\n",
       "27                     8     10\n",
       "28                    17     11\n",
       "29                    12     10\n",
       "30                    12      5"
      ]
     },
     "execution_count": 109,
     "metadata": {},
     "output_type": "execute_result"
    }
   ],
   "source": [
    "\n",
    "# Define stormy weather conditions\n",
    "storm_conditions = ['Windstorm', 'Thunderstorm', 'Heavy Rain', 'Snowstorm']\n",
    "\n",
    "# Create a new column to classify stormy vs. non-stormy weather\n",
    "df_fault_data['Stormy'] = df_fault_data['weather_condition'].isin(storm_conditions)\n",
    "\n",
    "# Group fault counts by wind speed and stormy condition\n",
    "fault_counts = df_fault_data.groupby(['wind_speed_(km/h)', 'Stormy'])['fault_id'].count().unstack()\n",
    "\n",
    "# Fill NaN values with 0\n",
    "fault_counts = fault_counts.fillna(0)\n",
    "\n",
    "# Display the grouped fault counts\n",
    "fault_counts\n",
    "\n"
   ]
  },
  {
   "cell_type": "markdown",
   "metadata": {},
   "source": [
    "Visualization"
   ]
  },
  {
   "cell_type": "code",
   "execution_count": 110,
   "metadata": {},
   "outputs": [
    {
     "data": {
      "image/png": "[encoded data removed]",
      "text/plain": [
       "<Figure size 1200x600 with 1 Axes>"
      ]
     },
     "metadata": {},
     "output_type": "display_data"
    }
   ],
   "source": [
    "\n",
    "\n",
    "# Extract data for plotting\n",
    "wind_speeds = fault_counts.index\n",
    "stormy_faults = fault_counts[True]\n",
    "non_stormy_faults = fault_counts[False]\n",
    "\n",
    "# Set bar width and positions\n",
    "bar_width = 0.4\n",
    "x = np.arange(len(wind_speeds))\n",
    "\n",
    "# Create clustered bar chart\n",
    "plt.figure(figsize=(12, 6))\n",
    "plt.bar(x - bar_width/2, stormy_faults, bar_width, label='Stormy Weather', color='red', alpha=0.7)\n",
    "plt.bar(x + bar_width/2, non_stormy_faults, bar_width, label='Non-Stormy Weather', color='blue', alpha=0.7)\n",
    "\n",
    "# Formatting the plot\n",
    "plt.xlabel(\"Wind Speed (km/h)\")\n",
    "plt.ylabel(\"Number of Faults\")\n",
    "plt.title(\"Faults at Different Wind Speeds (Stormy vs. Non-Stormy)\")\n",
    "plt.xticks(ticks=x, labels=wind_speeds, rotation=45)\n",
    "plt.legend()\n",
    "plt.grid(axis='y', linestyle='--', alpha=0.7)\n",
    "\n",
    "# Show plot\n",
    "plt.show()\n"
   ]
  },
  {
   "cell_type": "code",
   "execution_count": 111,
   "metadata": {},
   "outputs": [
    {
     "data": {
      "text/html": [
       "<div>\n",
       "<style scoped>\n",
       "    .dataframe tbody tr th:only-of-type {\n",
       "        vertical-align: middle;\n",
       "    }\n",
       "\n",
       "    .dataframe tbody tr th {\n",
       "        vertical-align: top;\n",
       "    }\n",
       "\n",
       "    .dataframe thead th {\n",
       "        text-align: right;\n",
       "    }\n",
       "</style>\n",
       "<table border=\"1\" class=\"dataframe\">\n",
       "  <thead>\n",
       "    <tr style=\"text-align: right;\">\n",
       "      <th></th>\n",
       "      <th>wind_speed_(km/h)</th>\n",
       "      <th>fault_count</th>\n",
       "    </tr>\n",
       "  </thead>\n",
       "  <tbody>\n",
       "    <tr>\n",
       "      <th>wind_speed_(km/h)</th>\n",
       "      <td>1.000000</td>\n",
       "      <td>-0.300883</td>\n",
       "    </tr>\n",
       "    <tr>\n",
       "      <th>fault_count</th>\n",
       "      <td>-0.300883</td>\n",
       "      <td>1.000000</td>\n",
       "    </tr>\n",
       "  </tbody>\n",
       "</table>\n",
       "</div>"
      ],
      "text/plain": [
       "                   wind_speed_(km/h)  fault_count\n",
       "wind_speed_(km/h)           1.000000    -0.300883\n",
       "fault_count                -0.300883     1.000000"
      ]
     },
     "execution_count": 111,
     "metadata": {},
     "output_type": "execute_result"
    }
   ],
   "source": [
    "# Convert 'Fault ID' count to numeric for correlation calculation\n",
    "df_fault_data['fault_count'] = df_fault_data.groupby('wind_speed_(km/h)')['fault_id'].transform('count')\n",
    "\n",
    "# Compute correlation between wind speed and number of faults\n",
    "correlation = df_fault_data[['wind_speed_(km/h)', 'fault_count']].corr()\n",
    "\n",
    "# Display correlation result\n",
    "correlation\n"
   ]
  },
  {
   "cell_type": "markdown",
   "metadata": {},
   "source": [
    "**Maintenance status impact on downtime**"
   ]
  },
  {
   "cell_type": "code",
   "execution_count": 114,
   "metadata": {},
   "outputs": [
    {
     "name": "stderr",
     "output_type": "stream",
     "text": [
      "C:\\Users\\maryo\\AppData\\Local\\Temp\\ipykernel_20436\\3454559636.py:8: FutureWarning: \n",
      "\n",
      "Passing `palette` without assigning `hue` is deprecated and will be removed in v0.14.0. Assign the `x` variable to `hue` and set `legend=False` for the same effect.\n",
      "\n",
      "  sns.barplot(x=maintenance_downtime.index, y=maintenance_downtime.values, palette=\"coolwarm\")\n"
     ]
    },
    {
     "data": {
      "image/png": "[encoded data removed]",
      "text/plain": [
       "<Figure size 1000x500 with 1 Axes>"
      ]
     },
     "metadata": {},
     "output_type": "display_data"
    }
   ],
   "source": [
    "\n",
    "# Group by maintenance status and calculate average downtime\n",
    "df_fault_data.head()\n",
    "# Group by maintenance status and calculate average downtime\n",
    "maintenance_downtime = df_fault_data.groupby(\"maintenance_status\")[\"down_time_(hrs)\"].mean().sort_values()\n",
    "\n",
    "# Plot average downtime by maintenance status\n",
    "plt.figure(figsize=(10, 5))\n",
    "sns.barplot(x=maintenance_downtime.index, y=maintenance_downtime.values, palette=\"coolwarm\")\n",
    "plt.xlabel(\"Maintenance Status\")\n",
    "plt.ylabel(\"Average Downtime (hrs)\")\n",
    "plt.title(\"Impact of Maintenance Status on Downtime\")\n",
    "plt.xticks(rotation=45)\n",
    "plt.show()\n",
    "\n"
   ]
  },
  {
   "cell_type": "code",
   "execution_count": null,
   "metadata": {},
   "outputs": [],
   "source": [
    "from scipy.stats import f_oneway, kruskal\n",
    "\n",
    "df_fault_data.info()\n",
    "\n",
    "# Extract downtime values for each maintenance status\n",
    "groups = [df_fault_data[df_fault_data[\"maintenance_status\"] == status][\"down_time_(hrs)\"].dropna() for status in df_fault_data[\"maintenance_status\"].unique()]\n",
    "\n",
    "# Perform ANOVA if data is normally distributed, otherwise use Kruskal-Wallis test\n",
    "anova_result = f_oneway(*groups)\n",
    "kruskal_result = kruskal(*groups)\n",
    "\n",
    "anova_result, kruskal_result\n"
   ]
  },
  {
   "cell_type": "markdown",
   "metadata": {},
   "source": [
    "**Identify the most severe faults requiring long recovery times**"
   ]
  },
  {
   "cell_type": "code",
   "execution_count": 124,
   "metadata": {},
   "outputs": [
    {
     "name": "stdout",
     "output_type": "stream",
     "text": [
      "Top 10 Most Severe Faults Requiring Long Recovery Times:\n",
      "    fault_id           fault_type  down_time_(hrs)\n",
      "42      F043          Overheating              7.0\n",
      "242     F243          Overheating              7.0\n",
      "5       F006          Overheating              7.0\n",
      "204     F205          Overheating              7.0\n",
      "278     F279  Transformer Failure              7.0\n",
      "122     F123  Transformer Failure              7.0\n",
      "51      F052  Transformer Failure              6.9\n",
      "455     F456        Line Breakage              6.9\n",
      "306     F307          Overheating              6.9\n",
      "337     F338        Line Breakage              6.9\n"
     ]
    }
   ],
   "source": [
    "# Sort the dataset by 'Down time (hrs)' in descending order\n",
    "df_sorted = df_fault_data.sort_values(by='down_time_(hrs)', ascending=False)\n",
    "\n",
    "# Get the top 10 most severe faults\n",
    "top_10_severe_faults = df_sorted.head(10)\n",
    "\n",
    "# Display the top 10 most severe faults\n",
    "print(\"Top 10 Most Severe Faults Requiring Long Recovery Times:\")\n",
    "print(top_10_severe_faults[['fault_id', 'fault_type', 'down_time_(hrs)']])"
   ]
  },
  {
   "cell_type": "code",
   "execution_count": 125,
   "metadata": {},
   "outputs": [
    {
     "name": "stderr",
     "output_type": "stream",
     "text": [
      "C:\\Users\\maryo\\AppData\\Local\\Temp\\ipykernel_20436\\1382003260.py:6: FutureWarning: \n",
      "\n",
      "Passing `palette` without assigning `hue` is deprecated and will be removed in v0.14.0. Assign the `y` variable to `hue` and set `legend=False` for the same effect.\n",
      "\n",
      "  sns.barplot(x='down_time_(hrs)', y='fault_id', data=top_10_severe_faults, palette='viridis')\n"
     ]
    },
    {
     "data": {
      "image/png": "[encoded data removed]",
      "text/plain": [
       "<Figure size 1000x600 with 1 Axes>"
      ]
     },
     "metadata": {},
     "output_type": "display_data"
    },
    {
     "ename": "NameError",
     "evalue": "name 'df' is not defined",
     "output_type": "error",
     "traceback": [
      "\u001b[31m---------------------------------------------------------------------------\u001b[39m",
      "\u001b[31mNameError\u001b[39m                                 Traceback (most recent call last)",
      "\u001b[36mCell\u001b[39m\u001b[36m \u001b[39m\u001b[32mIn[125]\u001b[39m\u001b[32m, line 14\u001b[39m\n\u001b[32m     12\u001b[39m \u001b[38;5;66;03m# Scatter Plot: Fault Type vs. Downtime\u001b[39;00m\n\u001b[32m     13\u001b[39m plt.figure(figsize=(\u001b[32m12\u001b[39m, \u001b[32m6\u001b[39m))\n\u001b[32m---> \u001b[39m\u001b[32m14\u001b[39m sns.scatterplot(x=\u001b[33m'\u001b[39m\u001b[33mDown time (hrs)\u001b[39m\u001b[33m'\u001b[39m, y=\u001b[33m'\u001b[39m\u001b[33mFault Type\u001b[39m\u001b[33m'\u001b[39m, data=\u001b[43mdf\u001b[49m, hue=\u001b[33m'\u001b[39m\u001b[33mFault Type\u001b[39m\u001b[33m'\u001b[39m, palette=\u001b[33m'\u001b[39m\u001b[33mSet2\u001b[39m\u001b[33m'\u001b[39m, s=\u001b[32m100\u001b[39m)\n\u001b[32m     15\u001b[39m plt.title(\u001b[33m'\u001b[39m\u001b[33mFault Type vs. Downtime (hrs)\u001b[39m\u001b[33m'\u001b[39m, fontsize=\u001b[32m16\u001b[39m)\n\u001b[32m     16\u001b[39m plt.xlabel(\u001b[33m'\u001b[39m\u001b[33mDown Time (hrs)\u001b[39m\u001b[33m'\u001b[39m, fontsize=\u001b[32m14\u001b[39m)\n",
      "\u001b[31mNameError\u001b[39m: name 'df' is not defined"
     ]
    },
    {
     "data": {
      "text/plain": [
       "<Figure size 1200x600 with 0 Axes>"
      ]
     },
     "metadata": {},
     "output_type": "display_data"
    }
   ],
   "source": [
    "# Set the style for the plots\n",
    "sns.set(style=\"whitegrid\")\n",
    "\n",
    "# Bar Plot: Top 10 Most Severe Faults by Downtime\n",
    "plt.figure(figsize=(10, 6))\n",
    "sns.barplot(x='down_time_(hrs)', y='fault_id', data=top_10_severe_faults, palette='viridis')\n",
    "plt.title('Top 10 Most Severe Faults by Downtime (hrs)', fontsize=16)\n",
    "plt.xlabel('Down Time (hrs)', fontsize=14)\n",
    "plt.ylabel('Fault ID', fontsize=14)\n",
    "plt.show()\n",
    "\n",
    "# Scatter Plot: Fault Type vs. Downtime\n",
    "plt.figure(figsize=(12, 6))\n",
    "sns.scatterplot(x='Down time (hrs)', y='Fault Type', data=df, hue='Fault Type', palette='Set2', s=100)\n",
    "plt.title('Fault Type vs. Downtime (hrs)', fontsize=16)\n",
    "plt.xlabel('Down Time (hrs)', fontsize=14)\n",
    "plt.ylabel('Fault Type', fontsize=14)\n",
    "plt.legend(bbox_to_anchor=(1.05, 1), loc='upper left')\n",
    "plt.show()"
   ]
  }
 ],
 "metadata": {
  "kernelspec": {
   "display_name": ".venv",
   "language": "python",
   "name": "python3"
  },
  "language_info": {
   "codemirror_mode": {
    "name": "ipython",
    "version": 3
   },
   "file_extension": ".py",
   "mimetype": "text/x-python",
   "name": "python",
   "nbconvert_exporter": "python",
   "pygments_lexer": "ipython3",
   "version": "3.13.1"
  }
 },
 "nbformat": 4,
 "nbformat_minor": 2
}
